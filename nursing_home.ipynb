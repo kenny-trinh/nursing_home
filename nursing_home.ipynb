{
 "cells": [
  {
   "cell_type": "markdown",
   "source": [
    "# Data Preparation"
   ],
   "metadata": {
    "collapsed": false
   },
   "id": "29603d2095e1dfd1"
  },
  {
   "cell_type": "markdown",
   "source": [
    "## Import libraries"
   ],
   "metadata": {
    "collapsed": false
   },
   "id": "d3bc859272ea0535"
  },
  {
   "cell_type": "code",
   "execution_count": 58,
   "id": "initial_id",
   "metadata": {
    "collapsed": true,
    "ExecuteTime": {
     "end_time": "2024-06-02T16:08:25.415262900Z",
     "start_time": "2024-06-02T16:08:25.407714500Z"
    }
   },
   "outputs": [],
   "source": [
    "# Import libraries\n",
    "import pandas as pd"
   ]
  },
  {
   "cell_type": "markdown",
   "source": [
    "## Load dataset"
   ],
   "metadata": {
    "collapsed": false
   },
   "id": "4751e767dbf596d6"
  },
  {
   "cell_type": "code",
   "outputs": [
    {
     "data": {
      "text/plain": "                                         Institution                Strasse  \\\n0                          Pflegezentrum Süssbach AG      Fröhlichstrasse 7   \n1                        Pflegewohngruppe Laufenburg       Baslerstrasse 22   \n2                          Alterswohnheim St. Martin        Marktstrasse 15   \n3  Stiftung Gässliacker - Zentrum für Alter und G...  Gässliackerstrasse 18   \n4                                 Altersheim Golatti   Golattenmattgasse 37   \n\n                         Ort Kanton                  Rechtsform  \\\n0                 5200 Brugg     AG          Aktiengesellschaft   \n1            5080 Laufenburg     AG          Aktiengesellschaft   \n2                  5630 Muri     AG  Stiftung (Art. 80 ff. ZGB)   \n3  5415 Nussbaumen Bei Baden     AG  Stiftung (Art. 80 ff. ZGB)   \n4                 5000 Aarau     AG         Verwaltung Gemeinde   \n\n  Pflegeleistungs Instrument    Jahr Anzahl Plätze Langzeitaufenthalt  \\\n0       RAI-RUG KLV (Stufen)  2022.0                              229   \n1       RAI-RUG KLV (Stufen)  2022.0                               20   \n2           BESA Minuten KLV  2022.0                               53   \n3       RAI-RUG KLV (Stufen)  2022.0                               81   \n4           BESA Minuten KLV  2022.0                               58   \n\n  Anzahl Plätze Kurzzeitaufenthalt Anzahl Plätze Akut- und Übergangspflege  \\\n0                                -                                       -   \n1                                -                                       -   \n2                                -                                       -   \n3                                -                                       -   \n4                                -                                       -   \n\n   ... davon Akut- und Übergangspflege (in Franken).1  \\\n0  ...                                              -   \n1  ...                                              -   \n2  ...                                              -   \n3  ...                                              -   \n4  ...                                              -   \n\n  Pflegetaxen2 (in 1'000 Franken) Pflegetaxen2 (Anteil am Gesamtertrag)  \\\n0                         12177.3                                  45.8   \n1                           961.6                                  42.8   \n2                          1156.7                                  29.3   \n3                          4200.3                                  43.9   \n4                          1919.9                                  31.8   \n\n  Pensionskosten (Anteil an den Gesamtkosten)  \\\n0                                        40.0   \n1                                        37.8   \n2                                        62.8   \n3                                        45.3   \n4                                        48.7   \n\n  Pensionskosten pro Beherbergungstag (in Franken)  \\\n0                                            133.4   \n1                                            122.9   \n2                                            146.9   \n3                                            150.5   \n4                                            156.5   \n\n   Pensionstaxen (Anteil am Gesamtertrag)  \\\n0                                    41.2   \n1                                    42.2   \n2                                    55.3   \n3                                    41.7   \n4                                    48.0   \n\n  Pensionstaxen pro Beherbergungstag (in Franken)  \\\n0                                           138.0   \n1                                           136.8   \n2                                           116.4   \n3                                           135.0   \n4                                           143.3   \n\n   Gesamte Erträge (in 1'000 Franken)  \\\n0                             26569.9   \n1                              2249.1   \n2                              3950.0   \n3                              9565.1   \n4                              6039.3   \n\n  Beiträge, Subventionen, Defizitdeckung2 \\n(in 1'000 Franken)  \\\n0                                                  -             \n1                                                  -             \n2                                                2.6             \n3                                                  -             \n4                                               72.4             \n\n  Betriebsergebnis, ohne Defizitdeckung \\n(in 1'000 Franken)  \n0                                               94.7          \n1                                               -7.4          \n2                                             -442.2          \n3                                             -245.9          \n4                                             -458.8          \n\n[5 rows x 65 columns]",
      "text/html": "<div>\n<style scoped>\n    .dataframe tbody tr th:only-of-type {\n        vertical-align: middle;\n    }\n\n    .dataframe tbody tr th {\n        vertical-align: top;\n    }\n\n    .dataframe thead th {\n        text-align: right;\n    }\n</style>\n<table border=\"1\" class=\"dataframe\">\n  <thead>\n    <tr style=\"text-align: right;\">\n      <th></th>\n      <th>Institution</th>\n      <th>Strasse</th>\n      <th>Ort</th>\n      <th>Kanton</th>\n      <th>Rechtsform</th>\n      <th>Pflegeleistungs Instrument</th>\n      <th>Jahr</th>\n      <th>Anzahl Plätze Langzeitaufenthalt</th>\n      <th>Anzahl Plätze Kurzzeitaufenthalt</th>\n      <th>Anzahl Plätze Akut- und Übergangspflege</th>\n      <th>...</th>\n      <th>davon Akut- und Übergangspflege (in Franken).1</th>\n      <th>Pflegetaxen2 (in 1'000 Franken)</th>\n      <th>Pflegetaxen2 (Anteil am Gesamtertrag)</th>\n      <th>Pensionskosten (Anteil an den Gesamtkosten)</th>\n      <th>Pensionskosten pro Beherbergungstag (in Franken)</th>\n      <th>Pensionstaxen (Anteil am Gesamtertrag)</th>\n      <th>Pensionstaxen pro Beherbergungstag (in Franken)</th>\n      <th>Gesamte Erträge (in 1'000 Franken)</th>\n      <th>Beiträge, Subventionen, Defizitdeckung2 \\n(in 1'000 Franken)</th>\n      <th>Betriebsergebnis, ohne Defizitdeckung \\n(in 1'000 Franken)</th>\n    </tr>\n  </thead>\n  <tbody>\n    <tr>\n      <th>0</th>\n      <td>Pflegezentrum Süssbach AG</td>\n      <td>Fröhlichstrasse 7</td>\n      <td>5200 Brugg</td>\n      <td>AG</td>\n      <td>Aktiengesellschaft</td>\n      <td>RAI-RUG KLV (Stufen)</td>\n      <td>2022.0</td>\n      <td>229</td>\n      <td>-</td>\n      <td>-</td>\n      <td>...</td>\n      <td>-</td>\n      <td>12177.3</td>\n      <td>45.8</td>\n      <td>40.0</td>\n      <td>133.4</td>\n      <td>41.2</td>\n      <td>138.0</td>\n      <td>26569.9</td>\n      <td>-</td>\n      <td>94.7</td>\n    </tr>\n    <tr>\n      <th>1</th>\n      <td>Pflegewohngruppe Laufenburg</td>\n      <td>Baslerstrasse 22</td>\n      <td>5080 Laufenburg</td>\n      <td>AG</td>\n      <td>Aktiengesellschaft</td>\n      <td>RAI-RUG KLV (Stufen)</td>\n      <td>2022.0</td>\n      <td>20</td>\n      <td>-</td>\n      <td>-</td>\n      <td>...</td>\n      <td>-</td>\n      <td>961.6</td>\n      <td>42.8</td>\n      <td>37.8</td>\n      <td>122.9</td>\n      <td>42.2</td>\n      <td>136.8</td>\n      <td>2249.1</td>\n      <td>-</td>\n      <td>-7.4</td>\n    </tr>\n    <tr>\n      <th>2</th>\n      <td>Alterswohnheim St. Martin</td>\n      <td>Marktstrasse 15</td>\n      <td>5630 Muri</td>\n      <td>AG</td>\n      <td>Stiftung (Art. 80 ff. ZGB)</td>\n      <td>BESA Minuten KLV</td>\n      <td>2022.0</td>\n      <td>53</td>\n      <td>-</td>\n      <td>-</td>\n      <td>...</td>\n      <td>-</td>\n      <td>1156.7</td>\n      <td>29.3</td>\n      <td>62.8</td>\n      <td>146.9</td>\n      <td>55.3</td>\n      <td>116.4</td>\n      <td>3950.0</td>\n      <td>2.6</td>\n      <td>-442.2</td>\n    </tr>\n    <tr>\n      <th>3</th>\n      <td>Stiftung Gässliacker - Zentrum für Alter und G...</td>\n      <td>Gässliackerstrasse 18</td>\n      <td>5415 Nussbaumen Bei Baden</td>\n      <td>AG</td>\n      <td>Stiftung (Art. 80 ff. ZGB)</td>\n      <td>RAI-RUG KLV (Stufen)</td>\n      <td>2022.0</td>\n      <td>81</td>\n      <td>-</td>\n      <td>-</td>\n      <td>...</td>\n      <td>-</td>\n      <td>4200.3</td>\n      <td>43.9</td>\n      <td>45.3</td>\n      <td>150.5</td>\n      <td>41.7</td>\n      <td>135.0</td>\n      <td>9565.1</td>\n      <td>-</td>\n      <td>-245.9</td>\n    </tr>\n    <tr>\n      <th>4</th>\n      <td>Altersheim Golatti</td>\n      <td>Golattenmattgasse 37</td>\n      <td>5000 Aarau</td>\n      <td>AG</td>\n      <td>Verwaltung Gemeinde</td>\n      <td>BESA Minuten KLV</td>\n      <td>2022.0</td>\n      <td>58</td>\n      <td>-</td>\n      <td>-</td>\n      <td>...</td>\n      <td>-</td>\n      <td>1919.9</td>\n      <td>31.8</td>\n      <td>48.7</td>\n      <td>156.5</td>\n      <td>48.0</td>\n      <td>143.3</td>\n      <td>6039.3</td>\n      <td>72.4</td>\n      <td>-458.8</td>\n    </tr>\n  </tbody>\n</table>\n<p>5 rows × 65 columns</p>\n</div>"
     },
     "execution_count": 59,
     "metadata": {},
     "output_type": "execute_result"
    }
   ],
   "source": [
    "# Loading nursing home dataset 2022\n",
    "df = pd.read_excel('datasets/Pflegeheime_2022.xlsx', header=1)\n",
    "df.head()"
   ],
   "metadata": {
    "collapsed": false,
    "ExecuteTime": {
     "end_time": "2024-06-02T16:08:27.466521700Z",
     "start_time": "2024-06-02T16:08:26.384348500Z"
    }
   },
   "id": "c198dc48f292b003",
   "execution_count": 59
  },
  {
   "cell_type": "markdown",
   "source": [
    "## Drop irrelevant columns"
   ],
   "metadata": {
    "collapsed": false
   },
   "id": "cb7d7d12f27e8d1b"
  },
  {
   "cell_type": "code",
   "outputs": [
    {
     "data": {
      "text/plain": "                                         Institution  \\\n0                          Pflegezentrum Süssbach AG   \n1                        Pflegewohngruppe Laufenburg   \n2                          Alterswohnheim St. Martin   \n3  Stiftung Gässliacker - Zentrum für Alter und G...   \n4                                 Altersheim Golatti   \n\n                         Ort Kanton Anzahl Plätze Langzeitaufenthalt  \\\n0                 5200 Brugg     AG                              229   \n1            5080 Laufenburg     AG                               20   \n2                  5630 Muri     AG                               53   \n3  5415 Nussbaumen Bei Baden     AG                               81   \n4                 5000 Aarau     AG                               58   \n\n  Anzahl Klienten Langzeit  Durchschnittsalter der Klienten bei Eintritt  \\\n0                      320                                          82.2   \n1                       22                                          65.6   \n2                       51                                          82.1   \n3                      103                                          84.5   \n4                       83                                          83.5   \n\n   Pflegefachpersonal  \n0                67.5  \n1               100.0  \n2                45.9  \n3                68.6  \n4                65.2  ",
      "text/html": "<div>\n<style scoped>\n    .dataframe tbody tr th:only-of-type {\n        vertical-align: middle;\n    }\n\n    .dataframe tbody tr th {\n        vertical-align: top;\n    }\n\n    .dataframe thead th {\n        text-align: right;\n    }\n</style>\n<table border=\"1\" class=\"dataframe\">\n  <thead>\n    <tr style=\"text-align: right;\">\n      <th></th>\n      <th>Institution</th>\n      <th>Ort</th>\n      <th>Kanton</th>\n      <th>Anzahl Plätze Langzeitaufenthalt</th>\n      <th>Anzahl Klienten Langzeit</th>\n      <th>Durchschnittsalter der Klienten bei Eintritt</th>\n      <th>Pflegefachpersonal</th>\n    </tr>\n  </thead>\n  <tbody>\n    <tr>\n      <th>0</th>\n      <td>Pflegezentrum Süssbach AG</td>\n      <td>5200 Brugg</td>\n      <td>AG</td>\n      <td>229</td>\n      <td>320</td>\n      <td>82.2</td>\n      <td>67.5</td>\n    </tr>\n    <tr>\n      <th>1</th>\n      <td>Pflegewohngruppe Laufenburg</td>\n      <td>5080 Laufenburg</td>\n      <td>AG</td>\n      <td>20</td>\n      <td>22</td>\n      <td>65.6</td>\n      <td>100.0</td>\n    </tr>\n    <tr>\n      <th>2</th>\n      <td>Alterswohnheim St. Martin</td>\n      <td>5630 Muri</td>\n      <td>AG</td>\n      <td>53</td>\n      <td>51</td>\n      <td>82.1</td>\n      <td>45.9</td>\n    </tr>\n    <tr>\n      <th>3</th>\n      <td>Stiftung Gässliacker - Zentrum für Alter und G...</td>\n      <td>5415 Nussbaumen Bei Baden</td>\n      <td>AG</td>\n      <td>81</td>\n      <td>103</td>\n      <td>84.5</td>\n      <td>68.6</td>\n    </tr>\n    <tr>\n      <th>4</th>\n      <td>Altersheim Golatti</td>\n      <td>5000 Aarau</td>\n      <td>AG</td>\n      <td>58</td>\n      <td>83</td>\n      <td>83.5</td>\n      <td>65.2</td>\n    </tr>\n  </tbody>\n</table>\n</div>"
     },
     "execution_count": 60,
     "metadata": {},
     "output_type": "execute_result"
    }
   ],
   "source": [
    "# Keep relevant columns (Institution, Ort, Kanton, Anzahl Plätze Langzeitaufenthalt, Anzahl Klienten Langzeit, Durchschnittsalter der Klienten bei Eintritt, Pflegefachpersonal)\n",
    "df = df[['Institution', 'Ort', 'Kanton', 'Anzahl Plätze Langzeitaufenthalt', 'Anzahl Klienten Langzeit', 'Durchschnittsalter der Klienten bei Eintritt', 'Pflegefachpersonal']]\n",
    "df.head()"
   ],
   "metadata": {
    "collapsed": false,
    "ExecuteTime": {
     "end_time": "2024-06-02T16:08:28.759402100Z",
     "start_time": "2024-06-02T16:08:28.748384900Z"
    }
   },
   "id": "8820ac756178faef",
   "execution_count": 60
  },
  {
   "cell_type": "markdown",
   "source": [
    "## Drop rows with missing values"
   ],
   "metadata": {
    "collapsed": false
   },
   "id": "838cb859bbf0575c"
  },
  {
   "cell_type": "code",
   "outputs": [
    {
     "data": {
      "text/plain": "Institution                                     3\nOrt                                             5\nKanton                                          5\nAnzahl Plätze Langzeitaufenthalt                5\nAnzahl Klienten Langzeit                        5\nDurchschnittsalter der Klienten bei Eintritt    5\nPflegefachpersonal                              5\ndtype: int64"
     },
     "execution_count": 61,
     "metadata": {},
     "output_type": "execute_result"
    }
   ],
   "source": [
    "# Check for missing values\n",
    "df.isnull().sum()"
   ],
   "metadata": {
    "collapsed": false,
    "ExecuteTime": {
     "end_time": "2024-06-02T16:08:32.768362600Z",
     "start_time": "2024-06-02T16:08:32.756652900Z"
    }
   },
   "id": "2c352cb5c3acbf95",
   "execution_count": 61
  },
  {
   "cell_type": "code",
   "outputs": [
    {
     "data": {
      "text/plain": "                                            Institution  Ort Kanton  \\\n1475  1 Ohne Akut- und Übergangspflege. 2 Vgl. Besch...  NaN    NaN   \n1476                                                NaN  NaN    NaN   \n1477                                                NaN  NaN    NaN   \n1478                                                NaN  NaN    NaN   \n1479  Bundesamt für Gesundheit (BAG) │www.bag.admin....  NaN    NaN   \n\n     Anzahl Plätze Langzeitaufenthalt Anzahl Klienten Langzeit  \\\n1475                              NaN                      NaN   \n1476                              NaN                      NaN   \n1477                              NaN                      NaN   \n1478                              NaN                      NaN   \n1479                              NaN                      NaN   \n\n      Durchschnittsalter der Klienten bei Eintritt  Pflegefachpersonal  \n1475                                           NaN                 NaN  \n1476                                           NaN                 NaN  \n1477                                           NaN                 NaN  \n1478                                           NaN                 NaN  \n1479                                           NaN                 NaN  ",
      "text/html": "<div>\n<style scoped>\n    .dataframe tbody tr th:only-of-type {\n        vertical-align: middle;\n    }\n\n    .dataframe tbody tr th {\n        vertical-align: top;\n    }\n\n    .dataframe thead th {\n        text-align: right;\n    }\n</style>\n<table border=\"1\" class=\"dataframe\">\n  <thead>\n    <tr style=\"text-align: right;\">\n      <th></th>\n      <th>Institution</th>\n      <th>Ort</th>\n      <th>Kanton</th>\n      <th>Anzahl Plätze Langzeitaufenthalt</th>\n      <th>Anzahl Klienten Langzeit</th>\n      <th>Durchschnittsalter der Klienten bei Eintritt</th>\n      <th>Pflegefachpersonal</th>\n    </tr>\n  </thead>\n  <tbody>\n    <tr>\n      <th>1475</th>\n      <td>1 Ohne Akut- und Übergangspflege. 2 Vgl. Besch...</td>\n      <td>NaN</td>\n      <td>NaN</td>\n      <td>NaN</td>\n      <td>NaN</td>\n      <td>NaN</td>\n      <td>NaN</td>\n    </tr>\n    <tr>\n      <th>1476</th>\n      <td>NaN</td>\n      <td>NaN</td>\n      <td>NaN</td>\n      <td>NaN</td>\n      <td>NaN</td>\n      <td>NaN</td>\n      <td>NaN</td>\n    </tr>\n    <tr>\n      <th>1477</th>\n      <td>NaN</td>\n      <td>NaN</td>\n      <td>NaN</td>\n      <td>NaN</td>\n      <td>NaN</td>\n      <td>NaN</td>\n      <td>NaN</td>\n    </tr>\n    <tr>\n      <th>1478</th>\n      <td>NaN</td>\n      <td>NaN</td>\n      <td>NaN</td>\n      <td>NaN</td>\n      <td>NaN</td>\n      <td>NaN</td>\n      <td>NaN</td>\n    </tr>\n    <tr>\n      <th>1479</th>\n      <td>Bundesamt für Gesundheit (BAG) │www.bag.admin....</td>\n      <td>NaN</td>\n      <td>NaN</td>\n      <td>NaN</td>\n      <td>NaN</td>\n      <td>NaN</td>\n      <td>NaN</td>\n    </tr>\n  </tbody>\n</table>\n</div>"
     },
     "execution_count": 62,
     "metadata": {},
     "output_type": "execute_result"
    }
   ],
   "source": [
    "# Show rows with missing values\n",
    "df[df.isnull().any(axis=1)]\n",
    "\n",
    "# Missing values are the footer of the dataset. We can drop them."
   ],
   "metadata": {
    "collapsed": false,
    "ExecuteTime": {
     "end_time": "2024-06-02T16:08:34.128946300Z",
     "start_time": "2024-06-02T16:08:34.111810600Z"
    }
   },
   "id": "61c422708fa82637",
   "execution_count": 62
  },
  {
   "cell_type": "code",
   "outputs": [
    {
     "data": {
      "text/plain": "Institution                                     0\nOrt                                             0\nKanton                                          0\nAnzahl Plätze Langzeitaufenthalt                0\nAnzahl Klienten Langzeit                        0\nDurchschnittsalter der Klienten bei Eintritt    0\nPflegefachpersonal                              0\ndtype: int64"
     },
     "execution_count": 63,
     "metadata": {},
     "output_type": "execute_result"
    }
   ],
   "source": [
    "# Drop rows with missing values\n",
    "df = df.dropna()\n",
    "\n",
    "# Confirm that missing values are removed\n",
    "df.isnull().sum()"
   ],
   "metadata": {
    "collapsed": false,
    "ExecuteTime": {
     "end_time": "2024-06-02T16:08:36.572036600Z",
     "start_time": "2024-06-02T16:08:36.555491500Z"
    }
   },
   "id": "230218a4dbe08a4f",
   "execution_count": 63
  },
  {
   "cell_type": "markdown",
   "source": [
    "## Drop rows with duplicate values"
   ],
   "metadata": {
    "collapsed": false
   },
   "id": "363831486f1f9552"
  },
  {
   "cell_type": "code",
   "outputs": [
    {
     "data": {
      "text/plain": "                                         Institution               Ort Kanton  \\\n9                                 Stiftung Lindenhof    4665 Oftringen     AG   \n16                            Alters- und Pflegeheim  4310 Rheinfelden     AG   \n60                            Alters- und Pflegeheim  5303 Würenlingen     AG   \n224                               Stiftung Lindenhof   4900 Langenthal     BE   \n356  Betagtenpflegeverein Biel-Seeland - Biel/Bienne  2503 Biel/Bienne     BE   \n357  Betagtenpflegeverein Biel-Seeland - Biel/Bienne  2504 Biel/Bienne     BE   \n472                                  Foyer St-Joseph     1634 La Roche     FR   \n474                                  Foyer St-Joseph       1642 Sorens     FR   \n489                                  Foyer St-Joseph       1638 Morlon     FR   \n560                             Seniorenzentrum Oase   7075 Churwalden     GR   \n846                                  Casa Solaris AG       9200 Gossau     SG   \n849                                  Casa Solaris AG  9244 Niederuzwil     SG   \n869                             Seniorenzentrum Oase   4653 Obergösgen     SO   \n\n    Anzahl Plätze Langzeitaufenthalt Anzahl Klienten Langzeit  \\\n9                                 88                      119   \n16                                43                       48   \n60                                69                       78   \n224                               79                       84   \n356                               10                       14   \n357                                8                       11   \n472                               47                       74   \n474                               40                       69   \n489                               26                       39   \n560                               28                       49   \n846                               32                       49   \n849                               45                       62   \n869                               20                       26   \n\n     Durchschnittsalter der Klienten bei Eintritt  Pflegefachpersonal  \n9                                            81.6                30.0  \n16                                           87.6                66.0  \n60                                           84.5                63.9  \n224                                          87.1                61.2  \n356                                          84.4                88.2  \n357                                          84.3                96.4  \n472                                          84.4                80.8  \n474                                          81.5                59.9  \n489                                          77.6                57.7  \n560                                          78.2                64.3  \n846                                          79.2                56.2  \n849                                          83.1                47.9  \n869                                          83.0                61.4  ",
      "text/html": "<div>\n<style scoped>\n    .dataframe tbody tr th:only-of-type {\n        vertical-align: middle;\n    }\n\n    .dataframe tbody tr th {\n        vertical-align: top;\n    }\n\n    .dataframe thead th {\n        text-align: right;\n    }\n</style>\n<table border=\"1\" class=\"dataframe\">\n  <thead>\n    <tr style=\"text-align: right;\">\n      <th></th>\n      <th>Institution</th>\n      <th>Ort</th>\n      <th>Kanton</th>\n      <th>Anzahl Plätze Langzeitaufenthalt</th>\n      <th>Anzahl Klienten Langzeit</th>\n      <th>Durchschnittsalter der Klienten bei Eintritt</th>\n      <th>Pflegefachpersonal</th>\n    </tr>\n  </thead>\n  <tbody>\n    <tr>\n      <th>9</th>\n      <td>Stiftung Lindenhof</td>\n      <td>4665 Oftringen</td>\n      <td>AG</td>\n      <td>88</td>\n      <td>119</td>\n      <td>81.6</td>\n      <td>30.0</td>\n    </tr>\n    <tr>\n      <th>16</th>\n      <td>Alters- und Pflegeheim</td>\n      <td>4310 Rheinfelden</td>\n      <td>AG</td>\n      <td>43</td>\n      <td>48</td>\n      <td>87.6</td>\n      <td>66.0</td>\n    </tr>\n    <tr>\n      <th>60</th>\n      <td>Alters- und Pflegeheim</td>\n      <td>5303 Würenlingen</td>\n      <td>AG</td>\n      <td>69</td>\n      <td>78</td>\n      <td>84.5</td>\n      <td>63.9</td>\n    </tr>\n    <tr>\n      <th>224</th>\n      <td>Stiftung Lindenhof</td>\n      <td>4900 Langenthal</td>\n      <td>BE</td>\n      <td>79</td>\n      <td>84</td>\n      <td>87.1</td>\n      <td>61.2</td>\n    </tr>\n    <tr>\n      <th>356</th>\n      <td>Betagtenpflegeverein Biel-Seeland - Biel/Bienne</td>\n      <td>2503 Biel/Bienne</td>\n      <td>BE</td>\n      <td>10</td>\n      <td>14</td>\n      <td>84.4</td>\n      <td>88.2</td>\n    </tr>\n    <tr>\n      <th>357</th>\n      <td>Betagtenpflegeverein Biel-Seeland - Biel/Bienne</td>\n      <td>2504 Biel/Bienne</td>\n      <td>BE</td>\n      <td>8</td>\n      <td>11</td>\n      <td>84.3</td>\n      <td>96.4</td>\n    </tr>\n    <tr>\n      <th>472</th>\n      <td>Foyer St-Joseph</td>\n      <td>1634 La Roche</td>\n      <td>FR</td>\n      <td>47</td>\n      <td>74</td>\n      <td>84.4</td>\n      <td>80.8</td>\n    </tr>\n    <tr>\n      <th>474</th>\n      <td>Foyer St-Joseph</td>\n      <td>1642 Sorens</td>\n      <td>FR</td>\n      <td>40</td>\n      <td>69</td>\n      <td>81.5</td>\n      <td>59.9</td>\n    </tr>\n    <tr>\n      <th>489</th>\n      <td>Foyer St-Joseph</td>\n      <td>1638 Morlon</td>\n      <td>FR</td>\n      <td>26</td>\n      <td>39</td>\n      <td>77.6</td>\n      <td>57.7</td>\n    </tr>\n    <tr>\n      <th>560</th>\n      <td>Seniorenzentrum Oase</td>\n      <td>7075 Churwalden</td>\n      <td>GR</td>\n      <td>28</td>\n      <td>49</td>\n      <td>78.2</td>\n      <td>64.3</td>\n    </tr>\n    <tr>\n      <th>846</th>\n      <td>Casa Solaris AG</td>\n      <td>9200 Gossau</td>\n      <td>SG</td>\n      <td>32</td>\n      <td>49</td>\n      <td>79.2</td>\n      <td>56.2</td>\n    </tr>\n    <tr>\n      <th>849</th>\n      <td>Casa Solaris AG</td>\n      <td>9244 Niederuzwil</td>\n      <td>SG</td>\n      <td>45</td>\n      <td>62</td>\n      <td>83.1</td>\n      <td>47.9</td>\n    </tr>\n    <tr>\n      <th>869</th>\n      <td>Seniorenzentrum Oase</td>\n      <td>4653 Obergösgen</td>\n      <td>SO</td>\n      <td>20</td>\n      <td>26</td>\n      <td>83.0</td>\n      <td>61.4</td>\n    </tr>\n  </tbody>\n</table>\n</div>"
     },
     "execution_count": 64,
     "metadata": {},
     "output_type": "execute_result"
    }
   ],
   "source": [
    "# Check for duplicates in Institution column\n",
    "df.duplicated(subset=['Institution']).sum()\n",
    "\n",
    "# Show rows with duplicates in Institution column\n",
    "df[df.duplicated(subset=['Institution'], keep=False)]\n",
    "\n",
    "# Some Institutions have the same name but are in different locations. We will keep them."
   ],
   "metadata": {
    "collapsed": false,
    "ExecuteTime": {
     "end_time": "2024-06-02T16:08:39.098433400Z",
     "start_time": "2024-06-02T16:08:39.081557600Z"
    }
   },
   "id": "32cc6957f462d9ba",
   "execution_count": 64
  },
  {
   "cell_type": "code",
   "outputs": [
    {
     "data": {
      "text/plain": "0"
     },
     "execution_count": 65,
     "metadata": {},
     "output_type": "execute_result"
    }
   ],
   "source": [
    "# Check for duplicates in Institution column when Institution and Ort are the same\n",
    "df.duplicated(subset=['Institution', 'Ort']).sum()\n",
    "\n",
    "# This confirms that there are no duplicates in the dataset in the case that Institution and Ort are the same."
   ],
   "metadata": {
    "collapsed": false,
    "ExecuteTime": {
     "end_time": "2024-06-02T16:08:40.621864600Z",
     "start_time": "2024-06-02T16:08:40.588360800Z"
    }
   },
   "id": "9f7d0d1505501ca",
   "execution_count": 65
  },
  {
   "cell_type": "code",
   "outputs": [
    {
     "data": {
      "text/plain": "0"
     },
     "execution_count": 66,
     "metadata": {},
     "output_type": "execute_result"
    }
   ],
   "source": [
    "# Check for duplicates\n",
    "df.duplicated().sum()\n",
    "\n",
    "# There are no duplicates in the dataset after keeping only the relevant columns."
   ],
   "metadata": {
    "collapsed": false,
    "ExecuteTime": {
     "end_time": "2024-06-02T16:08:45.133432700Z",
     "start_time": "2024-06-02T16:08:45.118413200Z"
    }
   },
   "id": "5b9b418849d1d854",
   "execution_count": 66
  },
  {
   "cell_type": "code",
   "outputs": [
    {
     "data": {
      "text/plain": "                                         Institution  \\\n0                          Pflegezentrum Süssbach AG   \n1                        Pflegewohngruppe Laufenburg   \n2                          Alterswohnheim St. Martin   \n3  Stiftung Gässliacker - Zentrum für Alter und G...   \n4                                 Altersheim Golatti   \n\n                         Ort Kanton Anzahl Plätze Langzeitaufenthalt  \\\n0                 5200 Brugg     AG                              229   \n1            5080 Laufenburg     AG                               20   \n2                  5630 Muri     AG                               53   \n3  5415 Nussbaumen Bei Baden     AG                               81   \n4                 5000 Aarau     AG                               58   \n\n  Anzahl Klienten Langzeit  Durchschnittsalter der Klienten bei Eintritt  \\\n0                      320                                          82.2   \n1                       22                                          65.6   \n2                       51                                          82.1   \n3                      103                                          84.5   \n4                       83                                          83.5   \n\n   Pflegefachpersonal  \n0                67.5  \n1               100.0  \n2                45.9  \n3                68.6  \n4                65.2  ",
      "text/html": "<div>\n<style scoped>\n    .dataframe tbody tr th:only-of-type {\n        vertical-align: middle;\n    }\n\n    .dataframe tbody tr th {\n        vertical-align: top;\n    }\n\n    .dataframe thead th {\n        text-align: right;\n    }\n</style>\n<table border=\"1\" class=\"dataframe\">\n  <thead>\n    <tr style=\"text-align: right;\">\n      <th></th>\n      <th>Institution</th>\n      <th>Ort</th>\n      <th>Kanton</th>\n      <th>Anzahl Plätze Langzeitaufenthalt</th>\n      <th>Anzahl Klienten Langzeit</th>\n      <th>Durchschnittsalter der Klienten bei Eintritt</th>\n      <th>Pflegefachpersonal</th>\n    </tr>\n  </thead>\n  <tbody>\n    <tr>\n      <th>0</th>\n      <td>Pflegezentrum Süssbach AG</td>\n      <td>5200 Brugg</td>\n      <td>AG</td>\n      <td>229</td>\n      <td>320</td>\n      <td>82.2</td>\n      <td>67.5</td>\n    </tr>\n    <tr>\n      <th>1</th>\n      <td>Pflegewohngruppe Laufenburg</td>\n      <td>5080 Laufenburg</td>\n      <td>AG</td>\n      <td>20</td>\n      <td>22</td>\n      <td>65.6</td>\n      <td>100.0</td>\n    </tr>\n    <tr>\n      <th>2</th>\n      <td>Alterswohnheim St. Martin</td>\n      <td>5630 Muri</td>\n      <td>AG</td>\n      <td>53</td>\n      <td>51</td>\n      <td>82.1</td>\n      <td>45.9</td>\n    </tr>\n    <tr>\n      <th>3</th>\n      <td>Stiftung Gässliacker - Zentrum für Alter und G...</td>\n      <td>5415 Nussbaumen Bei Baden</td>\n      <td>AG</td>\n      <td>81</td>\n      <td>103</td>\n      <td>84.5</td>\n      <td>68.6</td>\n    </tr>\n    <tr>\n      <th>4</th>\n      <td>Altersheim Golatti</td>\n      <td>5000 Aarau</td>\n      <td>AG</td>\n      <td>58</td>\n      <td>83</td>\n      <td>83.5</td>\n      <td>65.2</td>\n    </tr>\n  </tbody>\n</table>\n</div>"
     },
     "execution_count": 67,
     "metadata": {},
     "output_type": "execute_result"
    }
   ],
   "source": [
    "df.head()"
   ],
   "metadata": {
    "collapsed": false,
    "ExecuteTime": {
     "end_time": "2024-06-02T16:08:47.516057Z",
     "start_time": "2024-06-02T16:08:47.505905200Z"
    }
   },
   "id": "4947bf74727be0e7",
   "execution_count": 67
  },
  {
   "cell_type": "markdown",
   "source": [
    "## Create new excel after preprocessing"
   ],
   "metadata": {
    "collapsed": false
   },
   "id": "5f8fad1a526b162f"
  },
  {
   "cell_type": "code",
   "outputs": [],
   "source": [
    "# Create new excel file with relevant columns\n",
    "df.to_excel('datasets/Pflegeheime_2022_preprocessed.xlsx', index=False)"
   ],
   "metadata": {
    "collapsed": false,
    "ExecuteTime": {
     "end_time": "2024-06-02T16:08:53.480771700Z",
     "start_time": "2024-06-02T16:08:53.247243700Z"
    }
   },
   "id": "d8a7f4de0beeac99",
   "execution_count": 68
  }
 ],
 "metadata": {
  "kernelspec": {
   "display_name": "Python 3",
   "language": "python",
   "name": "python3"
  },
  "language_info": {
   "codemirror_mode": {
    "name": "ipython",
    "version": 2
   },
   "file_extension": ".py",
   "mimetype": "text/x-python",
   "name": "python",
   "nbconvert_exporter": "python",
   "pygments_lexer": "ipython2",
   "version": "2.7.6"
  }
 },
 "nbformat": 4,
 "nbformat_minor": 5
}
