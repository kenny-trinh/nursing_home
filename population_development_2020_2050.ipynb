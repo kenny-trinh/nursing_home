{
 "cells": [
  {
   "cell_type": "markdown",
   "source": [
    "# Data Preparation"
   ],
   "metadata": {
    "collapsed": false
   },
   "id": "d846e6ffb1c4d4de"
  },
  {
   "cell_type": "markdown",
   "source": [
    "## Import Libraries"
   ],
   "metadata": {
    "collapsed": false
   },
   "id": "6e392981ac1e95c3"
  },
  {
   "cell_type": "code",
   "outputs": [],
   "source": [
    "# Import Libraries\n",
    "import pandas as pd"
   ],
   "metadata": {
    "collapsed": false,
    "ExecuteTime": {
     "end_time": "2024-06-03T16:18:15.746718600Z",
     "start_time": "2024-06-03T16:18:15.663632400Z"
    }
   },
   "id": "a27aca3cd2337262",
   "execution_count": 53
  },
  {
   "cell_type": "markdown",
   "source": [
    "## Load dataset"
   ],
   "metadata": {
    "collapsed": false
   },
   "id": "e77ad5ee75e6f534"
  },
  {
   "cell_type": "code",
   "outputs": [
    {
     "data": {
      "text/plain": "  Unnamed: 0       2020       2021       2022       2023       2024  \\\n0    Schweiz  1640881.0  1676606.0  1714069.0  1752697.0  1794280.0   \n1     Zürich   267196.0   271934.0   276830.0   281911.0   287474.0   \n2       Bern   223414.0   228126.0   232737.0   237582.0   242584.0   \n3     Luzern    75269.0    77102.0    79173.0    81309.0    83559.0   \n4        Uri     7786.0     8015.0     8214.0     8452.0     8688.0   \n\n        2025       2026       2027       2028  ...       2041       2042  \\\n0  1837939.0  1883533.0  1931776.0  1983306.0  ...  2467334.0  2489124.0   \n1   293466.0   300031.0   306964.0   314681.0  ...   396384.0   401197.0   \n2   247844.0   253389.0   259084.0   265222.0  ...   312242.0   313518.0   \n3    85989.0    88496.0    91161.0    93971.0  ...   120482.0   121618.0   \n4     8924.0     9129.0     9360.0     9574.0  ...    11205.0    11240.0   \n\n        2043       2044       2045       2046       2047       2048  \\\n0  2510427.0  2532612.0  2556731.0  2580355.0  2604447.0  2626799.0   \n1   406274.0   411518.0   417212.0   422602.0   428069.0   433222.0   \n2   314661.0   315954.0   317491.0   319091.0   320671.0   322045.0   \n3   122771.0   123855.0   125070.0   126224.0   127562.0   128756.0   \n4    11269.0    11298.0    11330.0    11340.0    11353.0    11349.0   \n\n        2049       2050  \n0  2649935.0  2672625.0  \n1   438673.0   444113.0  \n2   323430.0   324716.0  \n3   129974.0   131149.0  \n4    11386.0    11394.0  \n\n[5 rows x 32 columns]",
      "text/html": "<div>\n<style scoped>\n    .dataframe tbody tr th:only-of-type {\n        vertical-align: middle;\n    }\n\n    .dataframe tbody tr th {\n        vertical-align: top;\n    }\n\n    .dataframe thead th {\n        text-align: right;\n    }\n</style>\n<table border=\"1\" class=\"dataframe\">\n  <thead>\n    <tr style=\"text-align: right;\">\n      <th></th>\n      <th>Unnamed: 0</th>\n      <th>2020</th>\n      <th>2021</th>\n      <th>2022</th>\n      <th>2023</th>\n      <th>2024</th>\n      <th>2025</th>\n      <th>2026</th>\n      <th>2027</th>\n      <th>2028</th>\n      <th>...</th>\n      <th>2041</th>\n      <th>2042</th>\n      <th>2043</th>\n      <th>2044</th>\n      <th>2045</th>\n      <th>2046</th>\n      <th>2047</th>\n      <th>2048</th>\n      <th>2049</th>\n      <th>2050</th>\n    </tr>\n  </thead>\n  <tbody>\n    <tr>\n      <th>0</th>\n      <td>Schweiz</td>\n      <td>1640881.0</td>\n      <td>1676606.0</td>\n      <td>1714069.0</td>\n      <td>1752697.0</td>\n      <td>1794280.0</td>\n      <td>1837939.0</td>\n      <td>1883533.0</td>\n      <td>1931776.0</td>\n      <td>1983306.0</td>\n      <td>...</td>\n      <td>2467334.0</td>\n      <td>2489124.0</td>\n      <td>2510427.0</td>\n      <td>2532612.0</td>\n      <td>2556731.0</td>\n      <td>2580355.0</td>\n      <td>2604447.0</td>\n      <td>2626799.0</td>\n      <td>2649935.0</td>\n      <td>2672625.0</td>\n    </tr>\n    <tr>\n      <th>1</th>\n      <td>Zürich</td>\n      <td>267196.0</td>\n      <td>271934.0</td>\n      <td>276830.0</td>\n      <td>281911.0</td>\n      <td>287474.0</td>\n      <td>293466.0</td>\n      <td>300031.0</td>\n      <td>306964.0</td>\n      <td>314681.0</td>\n      <td>...</td>\n      <td>396384.0</td>\n      <td>401197.0</td>\n      <td>406274.0</td>\n      <td>411518.0</td>\n      <td>417212.0</td>\n      <td>422602.0</td>\n      <td>428069.0</td>\n      <td>433222.0</td>\n      <td>438673.0</td>\n      <td>444113.0</td>\n    </tr>\n    <tr>\n      <th>2</th>\n      <td>Bern</td>\n      <td>223414.0</td>\n      <td>228126.0</td>\n      <td>232737.0</td>\n      <td>237582.0</td>\n      <td>242584.0</td>\n      <td>247844.0</td>\n      <td>253389.0</td>\n      <td>259084.0</td>\n      <td>265222.0</td>\n      <td>...</td>\n      <td>312242.0</td>\n      <td>313518.0</td>\n      <td>314661.0</td>\n      <td>315954.0</td>\n      <td>317491.0</td>\n      <td>319091.0</td>\n      <td>320671.0</td>\n      <td>322045.0</td>\n      <td>323430.0</td>\n      <td>324716.0</td>\n    </tr>\n    <tr>\n      <th>3</th>\n      <td>Luzern</td>\n      <td>75269.0</td>\n      <td>77102.0</td>\n      <td>79173.0</td>\n      <td>81309.0</td>\n      <td>83559.0</td>\n      <td>85989.0</td>\n      <td>88496.0</td>\n      <td>91161.0</td>\n      <td>93971.0</td>\n      <td>...</td>\n      <td>120482.0</td>\n      <td>121618.0</td>\n      <td>122771.0</td>\n      <td>123855.0</td>\n      <td>125070.0</td>\n      <td>126224.0</td>\n      <td>127562.0</td>\n      <td>128756.0</td>\n      <td>129974.0</td>\n      <td>131149.0</td>\n    </tr>\n    <tr>\n      <th>4</th>\n      <td>Uri</td>\n      <td>7786.0</td>\n      <td>8015.0</td>\n      <td>8214.0</td>\n      <td>8452.0</td>\n      <td>8688.0</td>\n      <td>8924.0</td>\n      <td>9129.0</td>\n      <td>9360.0</td>\n      <td>9574.0</td>\n      <td>...</td>\n      <td>11205.0</td>\n      <td>11240.0</td>\n      <td>11269.0</td>\n      <td>11298.0</td>\n      <td>11330.0</td>\n      <td>11340.0</td>\n      <td>11353.0</td>\n      <td>11349.0</td>\n      <td>11386.0</td>\n      <td>11394.0</td>\n    </tr>\n  </tbody>\n</table>\n<p>5 rows × 32 columns</p>\n</div>"
     },
     "execution_count": 54,
     "metadata": {},
     "output_type": "execute_result"
    }
   ],
   "source": [
    "# Load population development dataset 2020-2050\n",
    "df = pd.read_excel('datasets/Bevöklerungsentwicklung_2020_2050.xlsx', sheet_name='AR-00-2020 65-Jährigen und +', header=1)\n",
    "df.head()"
   ],
   "metadata": {
    "collapsed": false,
    "ExecuteTime": {
     "end_time": "2024-06-03T16:18:15.816554900Z",
     "start_time": "2024-06-03T16:18:15.750842Z"
    }
   },
   "id": "3b80352e463e8a4f",
   "execution_count": 54
  },
  {
   "cell_type": "markdown",
   "source": [
    "## Skip dropping columns"
   ],
   "metadata": {
    "collapsed": false
   },
   "id": "bbbd1fb2c0088016"
  },
  {
   "cell_type": "code",
   "outputs": [],
   "source": [
    "# ignore dropping columns"
   ],
   "metadata": {
    "collapsed": false,
    "ExecuteTime": {
     "end_time": "2024-06-03T16:18:15.850188400Z",
     "start_time": "2024-06-03T16:18:15.818439100Z"
    }
   },
   "id": "1407553d141ca2f3",
   "execution_count": 55
  },
  {
   "cell_type": "markdown",
   "source": [
    "## Drop rows with missing values"
   ],
   "metadata": {
    "collapsed": false
   },
   "id": "ce422caa2dcdb5d8"
  },
  {
   "cell_type": "code",
   "outputs": [
    {
     "data": {
      "text/plain": "Unnamed: 0    1\n2020          4\n2021          4\n2022          4\n2023          4\n2024          4\n2025          4\n2026          4\n2027          4\n2028          4\n2029          4\n2030          4\n2031          4\n2032          4\n2033          4\n2034          4\n2035          4\n2036          4\n2037          4\n2038          4\n2039          4\n2040          4\n2041          4\n2042          4\n2043          4\n2044          4\n2045          4\n2046          4\n2047          4\n2048          4\n2049          4\n2050          4\ndtype: int64"
     },
     "execution_count": 56,
     "metadata": {},
     "output_type": "execute_result"
    }
   ],
   "source": [
    "# Check for missing values\n",
    "df.isnull().sum()"
   ],
   "metadata": {
    "collapsed": false,
    "ExecuteTime": {
     "end_time": "2024-06-03T16:18:15.850692100Z",
     "start_time": "2024-06-03T16:18:15.820951900Z"
    }
   },
   "id": "fef7a167396ddfda",
   "execution_count": 56
  },
  {
   "cell_type": "code",
   "outputs": [
    {
     "data": {
      "text/plain": "                                           Unnamed: 0  2020  2021  2022  2023  \\\n27                                  Quelle: SZENARIEN   NaN   NaN   NaN   NaN   \n28                                              © BFS   NaN   NaN   NaN   NaN   \n29                                                NaN   NaN   NaN   NaN   NaN   \n30  Auskunft: Bundesamt für Statistik (BFS), Sekti...   NaN   NaN   NaN   NaN   \n\n    2024  2025  2026  2027  2028  ...  2041  2042  2043  2044  2045  2046  \\\n27   NaN   NaN   NaN   NaN   NaN  ...   NaN   NaN   NaN   NaN   NaN   NaN   \n28   NaN   NaN   NaN   NaN   NaN  ...   NaN   NaN   NaN   NaN   NaN   NaN   \n29   NaN   NaN   NaN   NaN   NaN  ...   NaN   NaN   NaN   NaN   NaN   NaN   \n30   NaN   NaN   NaN   NaN   NaN  ...   NaN   NaN   NaN   NaN   NaN   NaN   \n\n    2047  2048  2049  2050  \n27   NaN   NaN   NaN   NaN  \n28   NaN   NaN   NaN   NaN  \n29   NaN   NaN   NaN   NaN  \n30   NaN   NaN   NaN   NaN  \n\n[4 rows x 32 columns]",
      "text/html": "<div>\n<style scoped>\n    .dataframe tbody tr th:only-of-type {\n        vertical-align: middle;\n    }\n\n    .dataframe tbody tr th {\n        vertical-align: top;\n    }\n\n    .dataframe thead th {\n        text-align: right;\n    }\n</style>\n<table border=\"1\" class=\"dataframe\">\n  <thead>\n    <tr style=\"text-align: right;\">\n      <th></th>\n      <th>Unnamed: 0</th>\n      <th>2020</th>\n      <th>2021</th>\n      <th>2022</th>\n      <th>2023</th>\n      <th>2024</th>\n      <th>2025</th>\n      <th>2026</th>\n      <th>2027</th>\n      <th>2028</th>\n      <th>...</th>\n      <th>2041</th>\n      <th>2042</th>\n      <th>2043</th>\n      <th>2044</th>\n      <th>2045</th>\n      <th>2046</th>\n      <th>2047</th>\n      <th>2048</th>\n      <th>2049</th>\n      <th>2050</th>\n    </tr>\n  </thead>\n  <tbody>\n    <tr>\n      <th>27</th>\n      <td>Quelle: SZENARIEN</td>\n      <td>NaN</td>\n      <td>NaN</td>\n      <td>NaN</td>\n      <td>NaN</td>\n      <td>NaN</td>\n      <td>NaN</td>\n      <td>NaN</td>\n      <td>NaN</td>\n      <td>NaN</td>\n      <td>...</td>\n      <td>NaN</td>\n      <td>NaN</td>\n      <td>NaN</td>\n      <td>NaN</td>\n      <td>NaN</td>\n      <td>NaN</td>\n      <td>NaN</td>\n      <td>NaN</td>\n      <td>NaN</td>\n      <td>NaN</td>\n    </tr>\n    <tr>\n      <th>28</th>\n      <td>© BFS</td>\n      <td>NaN</td>\n      <td>NaN</td>\n      <td>NaN</td>\n      <td>NaN</td>\n      <td>NaN</td>\n      <td>NaN</td>\n      <td>NaN</td>\n      <td>NaN</td>\n      <td>NaN</td>\n      <td>...</td>\n      <td>NaN</td>\n      <td>NaN</td>\n      <td>NaN</td>\n      <td>NaN</td>\n      <td>NaN</td>\n      <td>NaN</td>\n      <td>NaN</td>\n      <td>NaN</td>\n      <td>NaN</td>\n      <td>NaN</td>\n    </tr>\n    <tr>\n      <th>29</th>\n      <td>NaN</td>\n      <td>NaN</td>\n      <td>NaN</td>\n      <td>NaN</td>\n      <td>NaN</td>\n      <td>NaN</td>\n      <td>NaN</td>\n      <td>NaN</td>\n      <td>NaN</td>\n      <td>NaN</td>\n      <td>...</td>\n      <td>NaN</td>\n      <td>NaN</td>\n      <td>NaN</td>\n      <td>NaN</td>\n      <td>NaN</td>\n      <td>NaN</td>\n      <td>NaN</td>\n      <td>NaN</td>\n      <td>NaN</td>\n      <td>NaN</td>\n    </tr>\n    <tr>\n      <th>30</th>\n      <td>Auskunft: Bundesamt für Statistik (BFS), Sekti...</td>\n      <td>NaN</td>\n      <td>NaN</td>\n      <td>NaN</td>\n      <td>NaN</td>\n      <td>NaN</td>\n      <td>NaN</td>\n      <td>NaN</td>\n      <td>NaN</td>\n      <td>NaN</td>\n      <td>...</td>\n      <td>NaN</td>\n      <td>NaN</td>\n      <td>NaN</td>\n      <td>NaN</td>\n      <td>NaN</td>\n      <td>NaN</td>\n      <td>NaN</td>\n      <td>NaN</td>\n      <td>NaN</td>\n      <td>NaN</td>\n    </tr>\n  </tbody>\n</table>\n<p>4 rows × 32 columns</p>\n</div>"
     },
     "execution_count": 57,
     "metadata": {},
     "output_type": "execute_result"
    }
   ],
   "source": [
    "# Show rows with missing values\n",
    "df[df.isnull().any(axis=1)]\n",
    "\n",
    "# Missing values are the footer of the dataset. We can drop them."
   ],
   "metadata": {
    "collapsed": false,
    "ExecuteTime": {
     "end_time": "2024-06-03T16:18:15.890173900Z",
     "start_time": "2024-06-03T16:18:15.830852500Z"
    }
   },
   "id": "28ba9fc519b9cd5b",
   "execution_count": 57
  },
  {
   "cell_type": "code",
   "outputs": [
    {
     "data": {
      "text/plain": "Unnamed: 0    0\n2020          0\n2021          0\n2022          0\n2023          0\n2024          0\n2025          0\n2026          0\n2027          0\n2028          0\n2029          0\n2030          0\n2031          0\n2032          0\n2033          0\n2034          0\n2035          0\n2036          0\n2037          0\n2038          0\n2039          0\n2040          0\n2041          0\n2042          0\n2043          0\n2044          0\n2045          0\n2046          0\n2047          0\n2048          0\n2049          0\n2050          0\ndtype: int64"
     },
     "execution_count": 58,
     "metadata": {},
     "output_type": "execute_result"
    }
   ],
   "source": [
    "# Drop rows with missing values\n",
    "df.dropna(inplace=True)\n",
    "\n",
    "# Confirm that missing values are removed\n",
    "df.isnull().sum()"
   ],
   "metadata": {
    "collapsed": false,
    "ExecuteTime": {
     "end_time": "2024-06-03T16:18:15.893173900Z",
     "start_time": "2024-06-03T16:18:15.845167900Z"
    }
   },
   "id": "b99ecf606870dfca",
   "execution_count": 58
  },
  {
   "cell_type": "markdown",
   "source": [
    "## Drop rows with duplicate values"
   ],
   "metadata": {
    "collapsed": false
   },
   "id": "90edac8cda9fbf27"
  },
  {
   "cell_type": "code",
   "outputs": [
    {
     "data": {
      "text/plain": "0"
     },
     "execution_count": 59,
     "metadata": {},
     "output_type": "execute_result"
    }
   ],
   "source": [
    "# Check for duplicate values\n",
    "df.duplicated().sum()\n",
    "\n",
    "# There are no duplicate values in the dataset"
   ],
   "metadata": {
    "collapsed": false,
    "ExecuteTime": {
     "end_time": "2024-06-03T16:18:15.916629100Z",
     "start_time": "2024-06-03T16:18:15.854709300Z"
    }
   },
   "id": "b12717b57fbc2275",
   "execution_count": 59
  },
  {
   "cell_type": "code",
   "outputs": [
    {
     "data": {
      "text/plain": "  Unnamed: 0       2020       2021       2022       2023       2024  \\\n0    Schweiz  1640881.0  1676606.0  1714069.0  1752697.0  1794280.0   \n1     Zürich   267196.0   271934.0   276830.0   281911.0   287474.0   \n2       Bern   223414.0   228126.0   232737.0   237582.0   242584.0   \n3     Luzern    75269.0    77102.0    79173.0    81309.0    83559.0   \n4        Uri     7786.0     8015.0     8214.0     8452.0     8688.0   \n\n        2025       2026       2027       2028  ...       2041       2042  \\\n0  1837939.0  1883533.0  1931776.0  1983306.0  ...  2467334.0  2489124.0   \n1   293466.0   300031.0   306964.0   314681.0  ...   396384.0   401197.0   \n2   247844.0   253389.0   259084.0   265222.0  ...   312242.0   313518.0   \n3    85989.0    88496.0    91161.0    93971.0  ...   120482.0   121618.0   \n4     8924.0     9129.0     9360.0     9574.0  ...    11205.0    11240.0   \n\n        2043       2044       2045       2046       2047       2048  \\\n0  2510427.0  2532612.0  2556731.0  2580355.0  2604447.0  2626799.0   \n1   406274.0   411518.0   417212.0   422602.0   428069.0   433222.0   \n2   314661.0   315954.0   317491.0   319091.0   320671.0   322045.0   \n3   122771.0   123855.0   125070.0   126224.0   127562.0   128756.0   \n4    11269.0    11298.0    11330.0    11340.0    11353.0    11349.0   \n\n        2049       2050  \n0  2649935.0  2672625.0  \n1   438673.0   444113.0  \n2   323430.0   324716.0  \n3   129974.0   131149.0  \n4    11386.0    11394.0  \n\n[5 rows x 32 columns]",
      "text/html": "<div>\n<style scoped>\n    .dataframe tbody tr th:only-of-type {\n        vertical-align: middle;\n    }\n\n    .dataframe tbody tr th {\n        vertical-align: top;\n    }\n\n    .dataframe thead th {\n        text-align: right;\n    }\n</style>\n<table border=\"1\" class=\"dataframe\">\n  <thead>\n    <tr style=\"text-align: right;\">\n      <th></th>\n      <th>Unnamed: 0</th>\n      <th>2020</th>\n      <th>2021</th>\n      <th>2022</th>\n      <th>2023</th>\n      <th>2024</th>\n      <th>2025</th>\n      <th>2026</th>\n      <th>2027</th>\n      <th>2028</th>\n      <th>...</th>\n      <th>2041</th>\n      <th>2042</th>\n      <th>2043</th>\n      <th>2044</th>\n      <th>2045</th>\n      <th>2046</th>\n      <th>2047</th>\n      <th>2048</th>\n      <th>2049</th>\n      <th>2050</th>\n    </tr>\n  </thead>\n  <tbody>\n    <tr>\n      <th>0</th>\n      <td>Schweiz</td>\n      <td>1640881.0</td>\n      <td>1676606.0</td>\n      <td>1714069.0</td>\n      <td>1752697.0</td>\n      <td>1794280.0</td>\n      <td>1837939.0</td>\n      <td>1883533.0</td>\n      <td>1931776.0</td>\n      <td>1983306.0</td>\n      <td>...</td>\n      <td>2467334.0</td>\n      <td>2489124.0</td>\n      <td>2510427.0</td>\n      <td>2532612.0</td>\n      <td>2556731.0</td>\n      <td>2580355.0</td>\n      <td>2604447.0</td>\n      <td>2626799.0</td>\n      <td>2649935.0</td>\n      <td>2672625.0</td>\n    </tr>\n    <tr>\n      <th>1</th>\n      <td>Zürich</td>\n      <td>267196.0</td>\n      <td>271934.0</td>\n      <td>276830.0</td>\n      <td>281911.0</td>\n      <td>287474.0</td>\n      <td>293466.0</td>\n      <td>300031.0</td>\n      <td>306964.0</td>\n      <td>314681.0</td>\n      <td>...</td>\n      <td>396384.0</td>\n      <td>401197.0</td>\n      <td>406274.0</td>\n      <td>411518.0</td>\n      <td>417212.0</td>\n      <td>422602.0</td>\n      <td>428069.0</td>\n      <td>433222.0</td>\n      <td>438673.0</td>\n      <td>444113.0</td>\n    </tr>\n    <tr>\n      <th>2</th>\n      <td>Bern</td>\n      <td>223414.0</td>\n      <td>228126.0</td>\n      <td>232737.0</td>\n      <td>237582.0</td>\n      <td>242584.0</td>\n      <td>247844.0</td>\n      <td>253389.0</td>\n      <td>259084.0</td>\n      <td>265222.0</td>\n      <td>...</td>\n      <td>312242.0</td>\n      <td>313518.0</td>\n      <td>314661.0</td>\n      <td>315954.0</td>\n      <td>317491.0</td>\n      <td>319091.0</td>\n      <td>320671.0</td>\n      <td>322045.0</td>\n      <td>323430.0</td>\n      <td>324716.0</td>\n    </tr>\n    <tr>\n      <th>3</th>\n      <td>Luzern</td>\n      <td>75269.0</td>\n      <td>77102.0</td>\n      <td>79173.0</td>\n      <td>81309.0</td>\n      <td>83559.0</td>\n      <td>85989.0</td>\n      <td>88496.0</td>\n      <td>91161.0</td>\n      <td>93971.0</td>\n      <td>...</td>\n      <td>120482.0</td>\n      <td>121618.0</td>\n      <td>122771.0</td>\n      <td>123855.0</td>\n      <td>125070.0</td>\n      <td>126224.0</td>\n      <td>127562.0</td>\n      <td>128756.0</td>\n      <td>129974.0</td>\n      <td>131149.0</td>\n    </tr>\n    <tr>\n      <th>4</th>\n      <td>Uri</td>\n      <td>7786.0</td>\n      <td>8015.0</td>\n      <td>8214.0</td>\n      <td>8452.0</td>\n      <td>8688.0</td>\n      <td>8924.0</td>\n      <td>9129.0</td>\n      <td>9360.0</td>\n      <td>9574.0</td>\n      <td>...</td>\n      <td>11205.0</td>\n      <td>11240.0</td>\n      <td>11269.0</td>\n      <td>11298.0</td>\n      <td>11330.0</td>\n      <td>11340.0</td>\n      <td>11353.0</td>\n      <td>11349.0</td>\n      <td>11386.0</td>\n      <td>11394.0</td>\n    </tr>\n  </tbody>\n</table>\n<p>5 rows × 32 columns</p>\n</div>"
     },
     "execution_count": 60,
     "metadata": {},
     "output_type": "execute_result"
    }
   ],
   "source": [
    "df.head()"
   ],
   "metadata": {
    "collapsed": false,
    "ExecuteTime": {
     "end_time": "2024-06-03T16:18:15.958753200Z",
     "start_time": "2024-06-03T16:18:15.864948800Z"
    }
   },
   "id": "9a8345af5459e575",
   "execution_count": 60
  },
  {
   "cell_type": "code",
   "outputs": [
    {
     "data": {
      "text/plain": "   Unnamed: 0      2020      2021      2022      2023      2024      2025  \\\n22      Waadt  135392.0  137594.0  140281.0  143233.0  146295.0  149448.0   \n23     Wallis   70837.0   72575.0   74399.0   76301.0   78429.0   80662.0   \n24  Neuenburg   34255.0   34679.0   35093.0   35488.0   36043.0   36592.0   \n25       Genf   84006.0   85116.0   86306.0   87593.0   89233.0   90805.0   \n26       Jura   15822.0   16085.0   16358.0   16603.0   16928.0   17270.0   \n\n        2026      2027      2028  ...      2041      2042      2043      2044  \\\n22  152593.0  156270.0  160317.0  ...  204480.0  207132.0  209729.0  212309.0   \n23   82907.0   85216.0   87782.0  ...  109638.0  110467.0  111242.0  111973.0   \n24   37102.0   37691.0   38337.0  ...   45768.0   46087.0   46351.0   46611.0   \n25   92487.0   94324.0   96323.0  ...  120203.0  121892.0  123505.0  125220.0   \n26   17567.0   17951.0   18271.0  ...   21097.0   21148.0   21198.0   21233.0   \n\n        2045      2046      2047      2048      2049      2050  \n22  215075.0  217718.0  220513.0  223045.0  225654.0  228270.0  \n23  112822.0  113711.0  114448.0  115133.0  115917.0  116689.0  \n24   46864.0   47096.0   47297.0   47468.0   47657.0   47898.0  \n25  126955.0  128686.0  130406.0  132085.0  133844.0  135584.0  \n26   21292.0   21336.0   21397.0   21442.0   21510.0   21555.0  \n\n[5 rows x 32 columns]",
      "text/html": "<div>\n<style scoped>\n    .dataframe tbody tr th:only-of-type {\n        vertical-align: middle;\n    }\n\n    .dataframe tbody tr th {\n        vertical-align: top;\n    }\n\n    .dataframe thead th {\n        text-align: right;\n    }\n</style>\n<table border=\"1\" class=\"dataframe\">\n  <thead>\n    <tr style=\"text-align: right;\">\n      <th></th>\n      <th>Unnamed: 0</th>\n      <th>2020</th>\n      <th>2021</th>\n      <th>2022</th>\n      <th>2023</th>\n      <th>2024</th>\n      <th>2025</th>\n      <th>2026</th>\n      <th>2027</th>\n      <th>2028</th>\n      <th>...</th>\n      <th>2041</th>\n      <th>2042</th>\n      <th>2043</th>\n      <th>2044</th>\n      <th>2045</th>\n      <th>2046</th>\n      <th>2047</th>\n      <th>2048</th>\n      <th>2049</th>\n      <th>2050</th>\n    </tr>\n  </thead>\n  <tbody>\n    <tr>\n      <th>22</th>\n      <td>Waadt</td>\n      <td>135392.0</td>\n      <td>137594.0</td>\n      <td>140281.0</td>\n      <td>143233.0</td>\n      <td>146295.0</td>\n      <td>149448.0</td>\n      <td>152593.0</td>\n      <td>156270.0</td>\n      <td>160317.0</td>\n      <td>...</td>\n      <td>204480.0</td>\n      <td>207132.0</td>\n      <td>209729.0</td>\n      <td>212309.0</td>\n      <td>215075.0</td>\n      <td>217718.0</td>\n      <td>220513.0</td>\n      <td>223045.0</td>\n      <td>225654.0</td>\n      <td>228270.0</td>\n    </tr>\n    <tr>\n      <th>23</th>\n      <td>Wallis</td>\n      <td>70837.0</td>\n      <td>72575.0</td>\n      <td>74399.0</td>\n      <td>76301.0</td>\n      <td>78429.0</td>\n      <td>80662.0</td>\n      <td>82907.0</td>\n      <td>85216.0</td>\n      <td>87782.0</td>\n      <td>...</td>\n      <td>109638.0</td>\n      <td>110467.0</td>\n      <td>111242.0</td>\n      <td>111973.0</td>\n      <td>112822.0</td>\n      <td>113711.0</td>\n      <td>114448.0</td>\n      <td>115133.0</td>\n      <td>115917.0</td>\n      <td>116689.0</td>\n    </tr>\n    <tr>\n      <th>24</th>\n      <td>Neuenburg</td>\n      <td>34255.0</td>\n      <td>34679.0</td>\n      <td>35093.0</td>\n      <td>35488.0</td>\n      <td>36043.0</td>\n      <td>36592.0</td>\n      <td>37102.0</td>\n      <td>37691.0</td>\n      <td>38337.0</td>\n      <td>...</td>\n      <td>45768.0</td>\n      <td>46087.0</td>\n      <td>46351.0</td>\n      <td>46611.0</td>\n      <td>46864.0</td>\n      <td>47096.0</td>\n      <td>47297.0</td>\n      <td>47468.0</td>\n      <td>47657.0</td>\n      <td>47898.0</td>\n    </tr>\n    <tr>\n      <th>25</th>\n      <td>Genf</td>\n      <td>84006.0</td>\n      <td>85116.0</td>\n      <td>86306.0</td>\n      <td>87593.0</td>\n      <td>89233.0</td>\n      <td>90805.0</td>\n      <td>92487.0</td>\n      <td>94324.0</td>\n      <td>96323.0</td>\n      <td>...</td>\n      <td>120203.0</td>\n      <td>121892.0</td>\n      <td>123505.0</td>\n      <td>125220.0</td>\n      <td>126955.0</td>\n      <td>128686.0</td>\n      <td>130406.0</td>\n      <td>132085.0</td>\n      <td>133844.0</td>\n      <td>135584.0</td>\n    </tr>\n    <tr>\n      <th>26</th>\n      <td>Jura</td>\n      <td>15822.0</td>\n      <td>16085.0</td>\n      <td>16358.0</td>\n      <td>16603.0</td>\n      <td>16928.0</td>\n      <td>17270.0</td>\n      <td>17567.0</td>\n      <td>17951.0</td>\n      <td>18271.0</td>\n      <td>...</td>\n      <td>21097.0</td>\n      <td>21148.0</td>\n      <td>21198.0</td>\n      <td>21233.0</td>\n      <td>21292.0</td>\n      <td>21336.0</td>\n      <td>21397.0</td>\n      <td>21442.0</td>\n      <td>21510.0</td>\n      <td>21555.0</td>\n    </tr>\n  </tbody>\n</table>\n<p>5 rows × 32 columns</p>\n</div>"
     },
     "execution_count": 61,
     "metadata": {},
     "output_type": "execute_result"
    }
   ],
   "source": [
    "df.tail()"
   ],
   "metadata": {
    "collapsed": false,
    "ExecuteTime": {
     "end_time": "2024-06-03T16:18:15.980554100Z",
     "start_time": "2024-06-03T16:18:15.884305200Z"
    }
   },
   "id": "d8baa3cafbed1a59",
   "execution_count": 61
  },
  {
   "cell_type": "code",
   "outputs": [
    {
     "data": {
      "text/plain": "                 2020       2021       2022       2023       2024       2025  \\\n0  Schweiz  1640881.0  1676606.0  1714069.0  1752697.0  1794280.0  1837939.0   \n1   Zürich   267196.0   271934.0   276830.0   281911.0   287474.0   293466.0   \n2     Bern   223414.0   228126.0   232737.0   237582.0   242584.0   247844.0   \n3   Luzern    75269.0    77102.0    79173.0    81309.0    83559.0    85989.0   \n4      Uri     7786.0     8015.0     8214.0     8452.0     8688.0     8924.0   \n\n        2026       2027       2028  ...       2041       2042       2043  \\\n0  1883533.0  1931776.0  1983306.0  ...  2467334.0  2489124.0  2510427.0   \n1   300031.0   306964.0   314681.0  ...   396384.0   401197.0   406274.0   \n2   253389.0   259084.0   265222.0  ...   312242.0   313518.0   314661.0   \n3    88496.0    91161.0    93971.0  ...   120482.0   121618.0   122771.0   \n4     9129.0     9360.0     9574.0  ...    11205.0    11240.0    11269.0   \n\n        2044       2045       2046       2047       2048       2049       2050  \n0  2532612.0  2556731.0  2580355.0  2604447.0  2626799.0  2649935.0  2672625.0  \n1   411518.0   417212.0   422602.0   428069.0   433222.0   438673.0   444113.0  \n2   315954.0   317491.0   319091.0   320671.0   322045.0   323430.0   324716.0  \n3   123855.0   125070.0   126224.0   127562.0   128756.0   129974.0   131149.0  \n4    11298.0    11330.0    11340.0    11353.0    11349.0    11386.0    11394.0  \n\n[5 rows x 32 columns]",
      "text/html": "<div>\n<style scoped>\n    .dataframe tbody tr th:only-of-type {\n        vertical-align: middle;\n    }\n\n    .dataframe tbody tr th {\n        vertical-align: top;\n    }\n\n    .dataframe thead th {\n        text-align: right;\n    }\n</style>\n<table border=\"1\" class=\"dataframe\">\n  <thead>\n    <tr style=\"text-align: right;\">\n      <th></th>\n      <th></th>\n      <th>2020</th>\n      <th>2021</th>\n      <th>2022</th>\n      <th>2023</th>\n      <th>2024</th>\n      <th>2025</th>\n      <th>2026</th>\n      <th>2027</th>\n      <th>2028</th>\n      <th>...</th>\n      <th>2041</th>\n      <th>2042</th>\n      <th>2043</th>\n      <th>2044</th>\n      <th>2045</th>\n      <th>2046</th>\n      <th>2047</th>\n      <th>2048</th>\n      <th>2049</th>\n      <th>2050</th>\n    </tr>\n  </thead>\n  <tbody>\n    <tr>\n      <th>0</th>\n      <td>Schweiz</td>\n      <td>1640881.0</td>\n      <td>1676606.0</td>\n      <td>1714069.0</td>\n      <td>1752697.0</td>\n      <td>1794280.0</td>\n      <td>1837939.0</td>\n      <td>1883533.0</td>\n      <td>1931776.0</td>\n      <td>1983306.0</td>\n      <td>...</td>\n      <td>2467334.0</td>\n      <td>2489124.0</td>\n      <td>2510427.0</td>\n      <td>2532612.0</td>\n      <td>2556731.0</td>\n      <td>2580355.0</td>\n      <td>2604447.0</td>\n      <td>2626799.0</td>\n      <td>2649935.0</td>\n      <td>2672625.0</td>\n    </tr>\n    <tr>\n      <th>1</th>\n      <td>Zürich</td>\n      <td>267196.0</td>\n      <td>271934.0</td>\n      <td>276830.0</td>\n      <td>281911.0</td>\n      <td>287474.0</td>\n      <td>293466.0</td>\n      <td>300031.0</td>\n      <td>306964.0</td>\n      <td>314681.0</td>\n      <td>...</td>\n      <td>396384.0</td>\n      <td>401197.0</td>\n      <td>406274.0</td>\n      <td>411518.0</td>\n      <td>417212.0</td>\n      <td>422602.0</td>\n      <td>428069.0</td>\n      <td>433222.0</td>\n      <td>438673.0</td>\n      <td>444113.0</td>\n    </tr>\n    <tr>\n      <th>2</th>\n      <td>Bern</td>\n      <td>223414.0</td>\n      <td>228126.0</td>\n      <td>232737.0</td>\n      <td>237582.0</td>\n      <td>242584.0</td>\n      <td>247844.0</td>\n      <td>253389.0</td>\n      <td>259084.0</td>\n      <td>265222.0</td>\n      <td>...</td>\n      <td>312242.0</td>\n      <td>313518.0</td>\n      <td>314661.0</td>\n      <td>315954.0</td>\n      <td>317491.0</td>\n      <td>319091.0</td>\n      <td>320671.0</td>\n      <td>322045.0</td>\n      <td>323430.0</td>\n      <td>324716.0</td>\n    </tr>\n    <tr>\n      <th>3</th>\n      <td>Luzern</td>\n      <td>75269.0</td>\n      <td>77102.0</td>\n      <td>79173.0</td>\n      <td>81309.0</td>\n      <td>83559.0</td>\n      <td>85989.0</td>\n      <td>88496.0</td>\n      <td>91161.0</td>\n      <td>93971.0</td>\n      <td>...</td>\n      <td>120482.0</td>\n      <td>121618.0</td>\n      <td>122771.0</td>\n      <td>123855.0</td>\n      <td>125070.0</td>\n      <td>126224.0</td>\n      <td>127562.0</td>\n      <td>128756.0</td>\n      <td>129974.0</td>\n      <td>131149.0</td>\n    </tr>\n    <tr>\n      <th>4</th>\n      <td>Uri</td>\n      <td>7786.0</td>\n      <td>8015.0</td>\n      <td>8214.0</td>\n      <td>8452.0</td>\n      <td>8688.0</td>\n      <td>8924.0</td>\n      <td>9129.0</td>\n      <td>9360.0</td>\n      <td>9574.0</td>\n      <td>...</td>\n      <td>11205.0</td>\n      <td>11240.0</td>\n      <td>11269.0</td>\n      <td>11298.0</td>\n      <td>11330.0</td>\n      <td>11340.0</td>\n      <td>11353.0</td>\n      <td>11349.0</td>\n      <td>11386.0</td>\n      <td>11394.0</td>\n    </tr>\n  </tbody>\n</table>\n<p>5 rows × 32 columns</p>\n</div>"
     },
     "execution_count": 62,
     "metadata": {},
     "output_type": "execute_result"
    }
   ],
   "source": [
    "# Replace Unnamed: 0 with empty string\n",
    "df.rename(columns={'Unnamed: 0': ''}, inplace=True)\n",
    "df.head()"
   ],
   "metadata": {
    "collapsed": false,
    "ExecuteTime": {
     "end_time": "2024-06-03T16:18:16.024586Z",
     "start_time": "2024-06-03T16:18:15.906606300Z"
    }
   },
   "id": "ce9140107c41dbb6",
   "execution_count": 62
  },
  {
   "cell_type": "markdown",
   "source": [
    "## Create new excel after preprocessing"
   ],
   "metadata": {
    "collapsed": false
   },
   "id": "119bf67f6e11c8f1"
  },
  {
   "cell_type": "code",
   "outputs": [],
   "source": [
    "# Create new excel file after cleaning\n",
    "df.to_excel('datasets/Bevöklerungsentwicklung_2020_2050_preprocessed.xlsx', index=False)"
   ],
   "metadata": {
    "collapsed": false,
    "ExecuteTime": {
     "end_time": "2024-06-03T16:18:16.067668600Z",
     "start_time": "2024-06-03T16:18:15.965754800Z"
    }
   },
   "id": "e6cd43ef35af7e0a",
   "execution_count": 63
  }
 ],
 "metadata": {
  "kernelspec": {
   "display_name": "Python 3",
   "language": "python",
   "name": "python3"
  },
  "language_info": {
   "codemirror_mode": {
    "name": "ipython",
    "version": 2
   },
   "file_extension": ".py",
   "mimetype": "text/x-python",
   "name": "python",
   "nbconvert_exporter": "python",
   "pygments_lexer": "ipython2",
   "version": "2.7.6"
  }
 },
 "nbformat": 4,
 "nbformat_minor": 5
}
