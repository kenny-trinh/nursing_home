{
 "cells": [
  {
   "cell_type": "markdown",
   "source": [
    "# Data Preparation"
   ],
   "metadata": {
    "collapsed": false
   },
   "id": "437384f7e4be34a3"
  },
  {
   "cell_type": "markdown",
   "source": [
    "## Import libraries"
   ],
   "metadata": {
    "collapsed": false
   },
   "id": "e3dc0a3ac6e457c7"
  },
  {
   "cell_type": "code",
   "outputs": [],
   "source": [
    "# Import libraries\n",
    "import pandas as pd"
   ],
   "metadata": {
    "collapsed": false,
    "ExecuteTime": {
     "end_time": "2024-06-02T17:08:11.925144Z",
     "start_time": "2024-06-02T17:08:11.884604Z"
    }
   },
   "id": "c9a8a37b968caf5a",
   "execution_count": 26
  },
  {
   "cell_type": "markdown",
   "source": [
    "## Load dataset"
   ],
   "metadata": {
    "collapsed": false
   },
   "id": "5dbced0bd540802c"
  },
  {
   "cell_type": "code",
   "outputs": [
    {
     "data": {
      "text/plain": "           Unnamed: 0 Unnamed: 1     2022\n0  Geschlecht - Total    0 Jahre  80839.0\n1                 NaN     1 Jahr  89890.0\n2                 NaN    2 Jahre  86673.0\n3                 NaN    3 Jahre  87633.0\n4                 NaN    4 Jahre  89530.0",
      "text/html": "<div>\n<style scoped>\n    .dataframe tbody tr th:only-of-type {\n        vertical-align: middle;\n    }\n\n    .dataframe tbody tr th {\n        vertical-align: top;\n    }\n\n    .dataframe thead th {\n        text-align: right;\n    }\n</style>\n<table border=\"1\" class=\"dataframe\">\n  <thead>\n    <tr style=\"text-align: right;\">\n      <th></th>\n      <th>Unnamed: 0</th>\n      <th>Unnamed: 1</th>\n      <th>2022</th>\n    </tr>\n  </thead>\n  <tbody>\n    <tr>\n      <th>0</th>\n      <td>Geschlecht - Total</td>\n      <td>0 Jahre</td>\n      <td>80839.0</td>\n    </tr>\n    <tr>\n      <th>1</th>\n      <td>NaN</td>\n      <td>1 Jahr</td>\n      <td>89890.0</td>\n    </tr>\n    <tr>\n      <th>2</th>\n      <td>NaN</td>\n      <td>2 Jahre</td>\n      <td>86673.0</td>\n    </tr>\n    <tr>\n      <th>3</th>\n      <td>NaN</td>\n      <td>3 Jahre</td>\n      <td>87633.0</td>\n    </tr>\n    <tr>\n      <th>4</th>\n      <td>NaN</td>\n      <td>4 Jahre</td>\n      <td>89530.0</td>\n    </tr>\n  </tbody>\n</table>\n</div>"
     },
     "execution_count": 27,
     "metadata": {},
     "output_type": "execute_result"
    }
   ],
   "source": [
    "# Loading demographics data\n",
    "df = pd.read_excel('datasets/Ständige_Wohnbevölkerung.xlsx', header=2)\n",
    "df.head()"
   ],
   "metadata": {
    "collapsed": false,
    "ExecuteTime": {
     "end_time": "2024-06-02T17:08:11.969337500Z",
     "start_time": "2024-06-02T17:08:11.930143700Z"
    }
   },
   "id": "5a51f5e2d475059b",
   "execution_count": 27
  },
  {
   "cell_type": "markdown",
   "source": [
    "## Drop irrelevant columns"
   ],
   "metadata": {
    "collapsed": false
   },
   "id": "656fa5c90b6e1d67"
  },
  {
   "cell_type": "code",
   "outputs": [
    {
     "data": {
      "text/plain": "  Unnamed: 1     2022\n0    0 Jahre  80839.0\n1     1 Jahr  89890.0\n2    2 Jahre  86673.0\n3    3 Jahre  87633.0\n4    4 Jahre  89530.0",
      "text/html": "<div>\n<style scoped>\n    .dataframe tbody tr th:only-of-type {\n        vertical-align: middle;\n    }\n\n    .dataframe tbody tr th {\n        vertical-align: top;\n    }\n\n    .dataframe thead th {\n        text-align: right;\n    }\n</style>\n<table border=\"1\" class=\"dataframe\">\n  <thead>\n    <tr style=\"text-align: right;\">\n      <th></th>\n      <th>Unnamed: 1</th>\n      <th>2022</th>\n    </tr>\n  </thead>\n  <tbody>\n    <tr>\n      <th>0</th>\n      <td>0 Jahre</td>\n      <td>80839.0</td>\n    </tr>\n    <tr>\n      <th>1</th>\n      <td>1 Jahr</td>\n      <td>89890.0</td>\n    </tr>\n    <tr>\n      <th>2</th>\n      <td>2 Jahre</td>\n      <td>86673.0</td>\n    </tr>\n    <tr>\n      <th>3</th>\n      <td>3 Jahre</td>\n      <td>87633.0</td>\n    </tr>\n    <tr>\n      <th>4</th>\n      <td>4 Jahre</td>\n      <td>89530.0</td>\n    </tr>\n  </tbody>\n</table>\n</div>"
     },
     "execution_count": 28,
     "metadata": {},
     "output_type": "execute_result"
    }
   ],
   "source": [
    "# Drop column 'Unnamed: 0'\n",
    "df.drop(columns=['Unnamed: 0'], inplace=True)\n",
    "\n",
    "df.head()"
   ],
   "metadata": {
    "collapsed": false,
    "ExecuteTime": {
     "end_time": "2024-06-02T17:08:11.998607900Z",
     "start_time": "2024-06-02T17:08:11.955145900Z"
    }
   },
   "id": "6818531ead63a2b",
   "execution_count": 28
  },
  {
   "cell_type": "markdown",
   "source": [
    "## Rename columns"
   ],
   "metadata": {
    "collapsed": false
   },
   "id": "256b3aadaca80bbc"
  },
  {
   "cell_type": "code",
   "outputs": [
    {
     "data": {
      "text/plain": "     Alter     2022\n0  0 Jahre  80839.0\n1   1 Jahr  89890.0\n2  2 Jahre  86673.0\n3  3 Jahre  87633.0\n4  4 Jahre  89530.0",
      "text/html": "<div>\n<style scoped>\n    .dataframe tbody tr th:only-of-type {\n        vertical-align: middle;\n    }\n\n    .dataframe tbody tr th {\n        vertical-align: top;\n    }\n\n    .dataframe thead th {\n        text-align: right;\n    }\n</style>\n<table border=\"1\" class=\"dataframe\">\n  <thead>\n    <tr style=\"text-align: right;\">\n      <th></th>\n      <th>Alter</th>\n      <th>2022</th>\n    </tr>\n  </thead>\n  <tbody>\n    <tr>\n      <th>0</th>\n      <td>0 Jahre</td>\n      <td>80839.0</td>\n    </tr>\n    <tr>\n      <th>1</th>\n      <td>1 Jahr</td>\n      <td>89890.0</td>\n    </tr>\n    <tr>\n      <th>2</th>\n      <td>2 Jahre</td>\n      <td>86673.0</td>\n    </tr>\n    <tr>\n      <th>3</th>\n      <td>3 Jahre</td>\n      <td>87633.0</td>\n    </tr>\n    <tr>\n      <th>4</th>\n      <td>4 Jahre</td>\n      <td>89530.0</td>\n    </tr>\n  </tbody>\n</table>\n</div>"
     },
     "execution_count": 29,
     "metadata": {},
     "output_type": "execute_result"
    }
   ],
   "source": [
    "# Rename columns Unnamed: 1 to 'Alter' and Unnamed: 2 to 'Bevölkerungsanteil'\n",
    "df.rename(columns={'Unnamed: 1': 'Alter', 'Unnamed: 2': 'Bevölkerungsanteil'}, inplace=True)\n",
    "df.head()"
   ],
   "metadata": {
    "collapsed": false,
    "ExecuteTime": {
     "end_time": "2024-06-02T17:08:12.001112800Z",
     "start_time": "2024-06-02T17:08:11.965097600Z"
    }
   },
   "id": "ea54edc69f05a72f",
   "execution_count": 29
  },
  {
   "cell_type": "markdown",
   "source": [
    "## Drop rows with missing values"
   ],
   "metadata": {
    "collapsed": false
   },
   "id": "8c5ee5f7e579da31"
  },
  {
   "cell_type": "code",
   "outputs": [
    {
     "data": {
      "text/plain": "                 Alter     2022\n91            91 Jahre  16575.0\n92            92 Jahre  13784.0\n93            93 Jahre  10587.0\n94            94 Jahre   8203.0\n95            95 Jahre   6062.0\n96            96 Jahre   4379.0\n97            97 Jahre   3113.0\n98            98 Jahre   2149.0\n99   99 Jahre und mehr   3353.0\n100                NaN      NaN\n101                NaN      NaN\n102                NaN      NaN\n103                NaN      NaN\n104                NaN      NaN\n105                NaN      NaN\n106                NaN      NaN\n107                NaN      NaN\n108                NaN      NaN\n109                NaN      NaN\n110                NaN      NaN\n111                NaN      NaN\n112                NaN      NaN\n113                NaN      NaN\n114                NaN      NaN\n115                NaN      NaN\n116                NaN      NaN\n117                NaN      NaN\n118                NaN      NaN\n119                NaN      NaN\n120                NaN      NaN\n121                NaN      NaN\n122                NaN      NaN\n123                NaN      NaN\n124                NaN      NaN\n125                NaN      NaN\n126                NaN      NaN\n127                NaN      NaN\n128                NaN      NaN\n129                NaN      NaN",
      "text/html": "<div>\n<style scoped>\n    .dataframe tbody tr th:only-of-type {\n        vertical-align: middle;\n    }\n\n    .dataframe tbody tr th {\n        vertical-align: top;\n    }\n\n    .dataframe thead th {\n        text-align: right;\n    }\n</style>\n<table border=\"1\" class=\"dataframe\">\n  <thead>\n    <tr style=\"text-align: right;\">\n      <th></th>\n      <th>Alter</th>\n      <th>2022</th>\n    </tr>\n  </thead>\n  <tbody>\n    <tr>\n      <th>91</th>\n      <td>91 Jahre</td>\n      <td>16575.0</td>\n    </tr>\n    <tr>\n      <th>92</th>\n      <td>92 Jahre</td>\n      <td>13784.0</td>\n    </tr>\n    <tr>\n      <th>93</th>\n      <td>93 Jahre</td>\n      <td>10587.0</td>\n    </tr>\n    <tr>\n      <th>94</th>\n      <td>94 Jahre</td>\n      <td>8203.0</td>\n    </tr>\n    <tr>\n      <th>95</th>\n      <td>95 Jahre</td>\n      <td>6062.0</td>\n    </tr>\n    <tr>\n      <th>96</th>\n      <td>96 Jahre</td>\n      <td>4379.0</td>\n    </tr>\n    <tr>\n      <th>97</th>\n      <td>97 Jahre</td>\n      <td>3113.0</td>\n    </tr>\n    <tr>\n      <th>98</th>\n      <td>98 Jahre</td>\n      <td>2149.0</td>\n    </tr>\n    <tr>\n      <th>99</th>\n      <td>99 Jahre und mehr</td>\n      <td>3353.0</td>\n    </tr>\n    <tr>\n      <th>100</th>\n      <td>NaN</td>\n      <td>NaN</td>\n    </tr>\n    <tr>\n      <th>101</th>\n      <td>NaN</td>\n      <td>NaN</td>\n    </tr>\n    <tr>\n      <th>102</th>\n      <td>NaN</td>\n      <td>NaN</td>\n    </tr>\n    <tr>\n      <th>103</th>\n      <td>NaN</td>\n      <td>NaN</td>\n    </tr>\n    <tr>\n      <th>104</th>\n      <td>NaN</td>\n      <td>NaN</td>\n    </tr>\n    <tr>\n      <th>105</th>\n      <td>NaN</td>\n      <td>NaN</td>\n    </tr>\n    <tr>\n      <th>106</th>\n      <td>NaN</td>\n      <td>NaN</td>\n    </tr>\n    <tr>\n      <th>107</th>\n      <td>NaN</td>\n      <td>NaN</td>\n    </tr>\n    <tr>\n      <th>108</th>\n      <td>NaN</td>\n      <td>NaN</td>\n    </tr>\n    <tr>\n      <th>109</th>\n      <td>NaN</td>\n      <td>NaN</td>\n    </tr>\n    <tr>\n      <th>110</th>\n      <td>NaN</td>\n      <td>NaN</td>\n    </tr>\n    <tr>\n      <th>111</th>\n      <td>NaN</td>\n      <td>NaN</td>\n    </tr>\n    <tr>\n      <th>112</th>\n      <td>NaN</td>\n      <td>NaN</td>\n    </tr>\n    <tr>\n      <th>113</th>\n      <td>NaN</td>\n      <td>NaN</td>\n    </tr>\n    <tr>\n      <th>114</th>\n      <td>NaN</td>\n      <td>NaN</td>\n    </tr>\n    <tr>\n      <th>115</th>\n      <td>NaN</td>\n      <td>NaN</td>\n    </tr>\n    <tr>\n      <th>116</th>\n      <td>NaN</td>\n      <td>NaN</td>\n    </tr>\n    <tr>\n      <th>117</th>\n      <td>NaN</td>\n      <td>NaN</td>\n    </tr>\n    <tr>\n      <th>118</th>\n      <td>NaN</td>\n      <td>NaN</td>\n    </tr>\n    <tr>\n      <th>119</th>\n      <td>NaN</td>\n      <td>NaN</td>\n    </tr>\n    <tr>\n      <th>120</th>\n      <td>NaN</td>\n      <td>NaN</td>\n    </tr>\n    <tr>\n      <th>121</th>\n      <td>NaN</td>\n      <td>NaN</td>\n    </tr>\n    <tr>\n      <th>122</th>\n      <td>NaN</td>\n      <td>NaN</td>\n    </tr>\n    <tr>\n      <th>123</th>\n      <td>NaN</td>\n      <td>NaN</td>\n    </tr>\n    <tr>\n      <th>124</th>\n      <td>NaN</td>\n      <td>NaN</td>\n    </tr>\n    <tr>\n      <th>125</th>\n      <td>NaN</td>\n      <td>NaN</td>\n    </tr>\n    <tr>\n      <th>126</th>\n      <td>NaN</td>\n      <td>NaN</td>\n    </tr>\n    <tr>\n      <th>127</th>\n      <td>NaN</td>\n      <td>NaN</td>\n    </tr>\n    <tr>\n      <th>128</th>\n      <td>NaN</td>\n      <td>NaN</td>\n    </tr>\n    <tr>\n      <th>129</th>\n      <td>NaN</td>\n      <td>NaN</td>\n    </tr>\n  </tbody>\n</table>\n</div>"
     },
     "execution_count": 30,
     "metadata": {},
     "output_type": "execute_result"
    }
   ],
   "source": [
    "# Check tail of the dataframe\n",
    "df.tail(39)\n",
    "\n",
    "# From Bevölkerungsanteil from age 99 and above were added together"
   ],
   "metadata": {
    "collapsed": false,
    "ExecuteTime": {
     "end_time": "2024-06-02T17:08:12.023560700Z",
     "start_time": "2024-06-02T17:08:11.972846800Z"
    }
   },
   "id": "eab7802db4d285c0",
   "execution_count": 30
  },
  {
   "cell_type": "markdown",
   "source": [],
   "metadata": {
    "collapsed": false
   },
   "id": "c2b49783b96704e9"
  },
  {
   "cell_type": "code",
   "outputs": [
    {
     "data": {
      "text/plain": "    Alter  2022\n100   NaN   NaN\n101   NaN   NaN\n102   NaN   NaN\n103   NaN   NaN\n104   NaN   NaN\n105   NaN   NaN\n106   NaN   NaN\n107   NaN   NaN\n108   NaN   NaN\n109   NaN   NaN\n110   NaN   NaN\n111   NaN   NaN\n112   NaN   NaN\n113   NaN   NaN\n114   NaN   NaN\n115   NaN   NaN\n116   NaN   NaN\n117   NaN   NaN\n118   NaN   NaN\n119   NaN   NaN\n120   NaN   NaN\n121   NaN   NaN\n122   NaN   NaN\n123   NaN   NaN\n124   NaN   NaN\n125   NaN   NaN\n126   NaN   NaN\n127   NaN   NaN\n128   NaN   NaN\n129   NaN   NaN",
      "text/html": "<div>\n<style scoped>\n    .dataframe tbody tr th:only-of-type {\n        vertical-align: middle;\n    }\n\n    .dataframe tbody tr th {\n        vertical-align: top;\n    }\n\n    .dataframe thead th {\n        text-align: right;\n    }\n</style>\n<table border=\"1\" class=\"dataframe\">\n  <thead>\n    <tr style=\"text-align: right;\">\n      <th></th>\n      <th>Alter</th>\n      <th>2022</th>\n    </tr>\n  </thead>\n  <tbody>\n    <tr>\n      <th>100</th>\n      <td>NaN</td>\n      <td>NaN</td>\n    </tr>\n    <tr>\n      <th>101</th>\n      <td>NaN</td>\n      <td>NaN</td>\n    </tr>\n    <tr>\n      <th>102</th>\n      <td>NaN</td>\n      <td>NaN</td>\n    </tr>\n    <tr>\n      <th>103</th>\n      <td>NaN</td>\n      <td>NaN</td>\n    </tr>\n    <tr>\n      <th>104</th>\n      <td>NaN</td>\n      <td>NaN</td>\n    </tr>\n    <tr>\n      <th>105</th>\n      <td>NaN</td>\n      <td>NaN</td>\n    </tr>\n    <tr>\n      <th>106</th>\n      <td>NaN</td>\n      <td>NaN</td>\n    </tr>\n    <tr>\n      <th>107</th>\n      <td>NaN</td>\n      <td>NaN</td>\n    </tr>\n    <tr>\n      <th>108</th>\n      <td>NaN</td>\n      <td>NaN</td>\n    </tr>\n    <tr>\n      <th>109</th>\n      <td>NaN</td>\n      <td>NaN</td>\n    </tr>\n    <tr>\n      <th>110</th>\n      <td>NaN</td>\n      <td>NaN</td>\n    </tr>\n    <tr>\n      <th>111</th>\n      <td>NaN</td>\n      <td>NaN</td>\n    </tr>\n    <tr>\n      <th>112</th>\n      <td>NaN</td>\n      <td>NaN</td>\n    </tr>\n    <tr>\n      <th>113</th>\n      <td>NaN</td>\n      <td>NaN</td>\n    </tr>\n    <tr>\n      <th>114</th>\n      <td>NaN</td>\n      <td>NaN</td>\n    </tr>\n    <tr>\n      <th>115</th>\n      <td>NaN</td>\n      <td>NaN</td>\n    </tr>\n    <tr>\n      <th>116</th>\n      <td>NaN</td>\n      <td>NaN</td>\n    </tr>\n    <tr>\n      <th>117</th>\n      <td>NaN</td>\n      <td>NaN</td>\n    </tr>\n    <tr>\n      <th>118</th>\n      <td>NaN</td>\n      <td>NaN</td>\n    </tr>\n    <tr>\n      <th>119</th>\n      <td>NaN</td>\n      <td>NaN</td>\n    </tr>\n    <tr>\n      <th>120</th>\n      <td>NaN</td>\n      <td>NaN</td>\n    </tr>\n    <tr>\n      <th>121</th>\n      <td>NaN</td>\n      <td>NaN</td>\n    </tr>\n    <tr>\n      <th>122</th>\n      <td>NaN</td>\n      <td>NaN</td>\n    </tr>\n    <tr>\n      <th>123</th>\n      <td>NaN</td>\n      <td>NaN</td>\n    </tr>\n    <tr>\n      <th>124</th>\n      <td>NaN</td>\n      <td>NaN</td>\n    </tr>\n    <tr>\n      <th>125</th>\n      <td>NaN</td>\n      <td>NaN</td>\n    </tr>\n    <tr>\n      <th>126</th>\n      <td>NaN</td>\n      <td>NaN</td>\n    </tr>\n    <tr>\n      <th>127</th>\n      <td>NaN</td>\n      <td>NaN</td>\n    </tr>\n    <tr>\n      <th>128</th>\n      <td>NaN</td>\n      <td>NaN</td>\n    </tr>\n    <tr>\n      <th>129</th>\n      <td>NaN</td>\n      <td>NaN</td>\n    </tr>\n  </tbody>\n</table>\n</div>"
     },
     "execution_count": 31,
     "metadata": {},
     "output_type": "execute_result"
    }
   ],
   "source": [
    "# Check for missing values\n",
    "df.isnull().sum()\n",
    "\n",
    "# Show rows with missing values\n",
    "df[df.isnull().any(axis=1)]\n",
    "\n",
    "# Missing values are white spaces and footer of the dataframe"
   ],
   "metadata": {
    "collapsed": false,
    "ExecuteTime": {
     "end_time": "2024-06-02T17:08:12.086560800Z",
     "start_time": "2024-06-02T17:08:12.005174200Z"
    }
   },
   "id": "bead527fb446e7f",
   "execution_count": 31
  },
  {
   "cell_type": "code",
   "outputs": [
    {
     "data": {
      "text/plain": "Alter    0\n2022     0\ndtype: int64"
     },
     "execution_count": 32,
     "metadata": {},
     "output_type": "execute_result"
    }
   ],
   "source": [
    "# Drop rows with missing values\n",
    "df.dropna(inplace=True)\n",
    "\n",
    "# Confirm missing values are dropped\n",
    "df.isnull().sum()"
   ],
   "metadata": {
    "collapsed": false,
    "ExecuteTime": {
     "end_time": "2024-06-02T17:08:12.125681100Z",
     "start_time": "2024-06-02T17:08:12.029039600Z"
    }
   },
   "id": "42989378e608448e",
   "execution_count": 32
  },
  {
   "cell_type": "code",
   "outputs": [
    {
     "data": {
      "text/plain": "                Alter    2022\n95           95 Jahre  6062.0\n96           96 Jahre  4379.0\n97           97 Jahre  3113.0\n98           98 Jahre  2149.0\n99  99 Jahre und mehr  3353.0",
      "text/html": "<div>\n<style scoped>\n    .dataframe tbody tr th:only-of-type {\n        vertical-align: middle;\n    }\n\n    .dataframe tbody tr th {\n        vertical-align: top;\n    }\n\n    .dataframe thead th {\n        text-align: right;\n    }\n</style>\n<table border=\"1\" class=\"dataframe\">\n  <thead>\n    <tr style=\"text-align: right;\">\n      <th></th>\n      <th>Alter</th>\n      <th>2022</th>\n    </tr>\n  </thead>\n  <tbody>\n    <tr>\n      <th>95</th>\n      <td>95 Jahre</td>\n      <td>6062.0</td>\n    </tr>\n    <tr>\n      <th>96</th>\n      <td>96 Jahre</td>\n      <td>4379.0</td>\n    </tr>\n    <tr>\n      <th>97</th>\n      <td>97 Jahre</td>\n      <td>3113.0</td>\n    </tr>\n    <tr>\n      <th>98</th>\n      <td>98 Jahre</td>\n      <td>2149.0</td>\n    </tr>\n    <tr>\n      <th>99</th>\n      <td>99 Jahre und mehr</td>\n      <td>3353.0</td>\n    </tr>\n  </tbody>\n</table>\n</div>"
     },
     "execution_count": 33,
     "metadata": {},
     "output_type": "execute_result"
    }
   ],
   "source": [
    "# Check tail of the dataframe\n",
    "df.tail()"
   ],
   "metadata": {
    "collapsed": false,
    "ExecuteTime": {
     "end_time": "2024-06-02T17:08:12.218662600Z",
     "start_time": "2024-06-02T17:08:12.100096500Z"
    }
   },
   "id": "e114cc4c7090dea",
   "execution_count": 33
  },
  {
   "cell_type": "markdown",
   "source": [
    "## Drop rows with duplicate values"
   ],
   "metadata": {
    "collapsed": false
   },
   "id": "e2bde3b9b28c2a27"
  },
  {
   "cell_type": "code",
   "outputs": [
    {
     "data": {
      "text/plain": "0"
     },
     "execution_count": 34,
     "metadata": {},
     "output_type": "execute_result"
    }
   ],
   "source": [
    "# Check for duplicate values\n",
    "df.duplicated().sum()\n",
    "\n",
    "# No duplicate values found"
   ],
   "metadata": {
    "collapsed": false,
    "ExecuteTime": {
     "end_time": "2024-06-02T17:08:12.328529900Z",
     "start_time": "2024-06-02T17:08:12.201204400Z"
    }
   },
   "id": "e9d3861296ba1eb1",
   "execution_count": 34
  },
  {
   "cell_type": "markdown",
   "source": [
    "## Create new excel file for total population"
   ],
   "metadata": {
    "collapsed": false
   },
   "id": "e0de02c2a3bdc30b"
  },
  {
   "cell_type": "code",
   "outputs": [],
   "source": [
    "# Create new excel file for total population\n",
    "df.to_excel('datasets/Ständige_Wohnbevölkerung_preprocessed.xlsx', index=False)"
   ],
   "metadata": {
    "collapsed": false,
    "ExecuteTime": {
     "end_time": "2024-06-02T17:08:12.407084700Z",
     "start_time": "2024-06-02T17:08:12.333035300Z"
    }
   },
   "id": "d9bd00bb506d4c11",
   "execution_count": 35
  },
  {
   "cell_type": "markdown",
   "source": [
    "## Keep only 65+ age population"
   ],
   "metadata": {
    "collapsed": false
   },
   "id": "b7d58f30cfe57f19"
  },
  {
   "cell_type": "markdown",
   "source": [],
   "metadata": {
    "collapsed": false
   },
   "id": "72367c3500d61057"
  },
  {
   "cell_type": "code",
   "outputs": [
    {
     "data": {
      "text/plain": "       Alter     2022\n65  65 Jahre  98481.0\n66  66 Jahre  94698.0\n67  67 Jahre  90285.0\n68  68 Jahre  87180.0\n69  69 Jahre  83810.0",
      "text/html": "<div>\n<style scoped>\n    .dataframe tbody tr th:only-of-type {\n        vertical-align: middle;\n    }\n\n    .dataframe tbody tr th {\n        vertical-align: top;\n    }\n\n    .dataframe thead th {\n        text-align: right;\n    }\n</style>\n<table border=\"1\" class=\"dataframe\">\n  <thead>\n    <tr style=\"text-align: right;\">\n      <th></th>\n      <th>Alter</th>\n      <th>2022</th>\n    </tr>\n  </thead>\n  <tbody>\n    <tr>\n      <th>65</th>\n      <td>65 Jahre</td>\n      <td>98481.0</td>\n    </tr>\n    <tr>\n      <th>66</th>\n      <td>66 Jahre</td>\n      <td>94698.0</td>\n    </tr>\n    <tr>\n      <th>67</th>\n      <td>67 Jahre</td>\n      <td>90285.0</td>\n    </tr>\n    <tr>\n      <th>68</th>\n      <td>68 Jahre</td>\n      <td>87180.0</td>\n    </tr>\n    <tr>\n      <th>69</th>\n      <td>69 Jahre</td>\n      <td>83810.0</td>\n    </tr>\n  </tbody>\n</table>\n</div>"
     },
     "execution_count": 36,
     "metadata": {},
     "output_type": "execute_result"
    }
   ],
   "source": [
    "# Drop rows with index 0 to 64\n",
    "df.drop(index=range(0, 65), inplace=True)\n",
    "\n",
    "# Confirm rows are dropped\n",
    "df.head()"
   ],
   "metadata": {
    "collapsed": false,
    "ExecuteTime": {
     "end_time": "2024-06-02T17:08:12.451175400Z",
     "start_time": "2024-06-02T17:08:12.385403400Z"
    }
   },
   "id": "380be254daba7675",
   "execution_count": 36
  },
  {
   "cell_type": "code",
   "outputs": [
    {
     "data": {
      "text/plain": "                Alter    2022\n95           95 Jahre  6062.0\n96           96 Jahre  4379.0\n97           97 Jahre  3113.0\n98           98 Jahre  2149.0\n99  99 Jahre und mehr  3353.0",
      "text/html": "<div>\n<style scoped>\n    .dataframe tbody tr th:only-of-type {\n        vertical-align: middle;\n    }\n\n    .dataframe tbody tr th {\n        vertical-align: top;\n    }\n\n    .dataframe thead th {\n        text-align: right;\n    }\n</style>\n<table border=\"1\" class=\"dataframe\">\n  <thead>\n    <tr style=\"text-align: right;\">\n      <th></th>\n      <th>Alter</th>\n      <th>2022</th>\n    </tr>\n  </thead>\n  <tbody>\n    <tr>\n      <th>95</th>\n      <td>95 Jahre</td>\n      <td>6062.0</td>\n    </tr>\n    <tr>\n      <th>96</th>\n      <td>96 Jahre</td>\n      <td>4379.0</td>\n    </tr>\n    <tr>\n      <th>97</th>\n      <td>97 Jahre</td>\n      <td>3113.0</td>\n    </tr>\n    <tr>\n      <th>98</th>\n      <td>98 Jahre</td>\n      <td>2149.0</td>\n    </tr>\n    <tr>\n      <th>99</th>\n      <td>99 Jahre und mehr</td>\n      <td>3353.0</td>\n    </tr>\n  </tbody>\n</table>\n</div>"
     },
     "execution_count": 37,
     "metadata": {},
     "output_type": "execute_result"
    }
   ],
   "source": [
    "df.tail()"
   ],
   "metadata": {
    "collapsed": false,
    "ExecuteTime": {
     "end_time": "2024-06-02T17:08:12.481938600Z",
     "start_time": "2024-06-02T17:08:12.443055700Z"
    }
   },
   "id": "4e23d12781734a1b",
   "execution_count": 37
  },
  {
   "cell_type": "markdown",
   "source": [
    "## Create new excel after preprocessing"
   ],
   "metadata": {
    "collapsed": false
   },
   "id": "62d040977883a339"
  },
  {
   "cell_type": "code",
   "outputs": [],
   "source": [
    "# Create new excel file after preprocessing\n",
    "df.to_excel('datasets/Ständige_Wohnbevölkerung_preprocessed_65+.xlsx', index=False)"
   ],
   "metadata": {
    "collapsed": false,
    "ExecuteTime": {
     "end_time": "2024-06-02T17:08:12.591580200Z",
     "start_time": "2024-06-02T17:08:12.487355800Z"
    }
   },
   "id": "588d4cd95323ed78",
   "execution_count": 38
  }
 ],
 "metadata": {
  "kernelspec": {
   "display_name": "Python 3",
   "language": "python",
   "name": "python3"
  },
  "language_info": {
   "codemirror_mode": {
    "name": "ipython",
    "version": 2
   },
   "file_extension": ".py",
   "mimetype": "text/x-python",
   "name": "python",
   "nbconvert_exporter": "python",
   "pygments_lexer": "ipython2",
   "version": "2.7.6"
  }
 },
 "nbformat": 4,
 "nbformat_minor": 5
}
